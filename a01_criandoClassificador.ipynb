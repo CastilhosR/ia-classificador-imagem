{
 "cells": [
  {
   "cell_type": "code",
   "execution_count": 1,
   "metadata": {},
   "outputs": [
    {
     "name": "stdout",
     "output_type": "stream",
     "text": [
      "Requirement already satisfied: tensorflow in c:\\users\\pablo\\anaconda3\\lib\\site-packages (2.14.0)\n",
      "Requirement already satisfied: tensorflow-intel==2.14.0 in c:\\users\\pablo\\anaconda3\\lib\\site-packages (from tensorflow) (2.14.0)\n",
      "Requirement already satisfied: absl-py>=1.0.0 in c:\\users\\pablo\\anaconda3\\lib\\site-packages (from tensorflow-intel==2.14.0->tensorflow) (2.0.0)\n",
      "Requirement already satisfied: astunparse>=1.6.0 in c:\\users\\pablo\\anaconda3\\lib\\site-packages (from tensorflow-intel==2.14.0->tensorflow) (1.6.3)\n",
      "Requirement already satisfied: flatbuffers>=23.5.26 in c:\\users\\pablo\\anaconda3\\lib\\site-packages (from tensorflow-intel==2.14.0->tensorflow) (23.5.26)\n",
      "Requirement already satisfied: gast!=0.5.0,!=0.5.1,!=0.5.2,>=0.2.1 in c:\\users\\pablo\\anaconda3\\lib\\site-packages (from tensorflow-intel==2.14.0->tensorflow) (0.5.4)\n",
      "Requirement already satisfied: google-pasta>=0.1.1 in c:\\users\\pablo\\anaconda3\\lib\\site-packages (from tensorflow-intel==2.14.0->tensorflow) (0.2.0)\n",
      "Requirement already satisfied: h5py>=2.9.0 in c:\\users\\pablo\\anaconda3\\lib\\site-packages (from tensorflow-intel==2.14.0->tensorflow) (3.9.0)\n",
      "Requirement already satisfied: libclang>=13.0.0 in c:\\users\\pablo\\anaconda3\\lib\\site-packages (from tensorflow-intel==2.14.0->tensorflow) (16.0.6)\n",
      "Requirement already satisfied: ml-dtypes==0.2.0 in c:\\users\\pablo\\anaconda3\\lib\\site-packages (from tensorflow-intel==2.14.0->tensorflow) (0.2.0)\n",
      "Requirement already satisfied: numpy>=1.23.5 in c:\\users\\pablo\\anaconda3\\lib\\site-packages (from tensorflow-intel==2.14.0->tensorflow) (1.24.3)\n",
      "Requirement already satisfied: opt-einsum>=2.3.2 in c:\\users\\pablo\\anaconda3\\lib\\site-packages (from tensorflow-intel==2.14.0->tensorflow) (3.3.0)\n",
      "Requirement already satisfied: packaging in c:\\users\\pablo\\appdata\\roaming\\python\\python311\\site-packages (from tensorflow-intel==2.14.0->tensorflow) (23.1)\n",
      "Requirement already satisfied: protobuf!=4.21.0,!=4.21.1,!=4.21.2,!=4.21.3,!=4.21.4,!=4.21.5,<5.0.0dev,>=3.20.3 in c:\\users\\pablo\\anaconda3\\lib\\site-packages (from tensorflow-intel==2.14.0->tensorflow) (4.23.4)\n",
      "Requirement already satisfied: setuptools in c:\\users\\pablo\\anaconda3\\lib\\site-packages (from tensorflow-intel==2.14.0->tensorflow) (68.0.0)\n",
      "Requirement already satisfied: six>=1.12.0 in c:\\users\\pablo\\appdata\\roaming\\python\\python311\\site-packages (from tensorflow-intel==2.14.0->tensorflow) (1.16.0)\n",
      "Requirement already satisfied: termcolor>=1.1.0 in c:\\users\\pablo\\anaconda3\\lib\\site-packages (from tensorflow-intel==2.14.0->tensorflow) (2.3.0)\n",
      "Requirement already satisfied: typing-extensions>=3.6.6 in c:\\users\\pablo\\anaconda3\\lib\\site-packages (from tensorflow-intel==2.14.0->tensorflow) (4.8.0)\n",
      "Requirement already satisfied: wrapt<1.15,>=1.11.0 in c:\\users\\pablo\\anaconda3\\lib\\site-packages (from tensorflow-intel==2.14.0->tensorflow) (1.14.1)\n",
      "Requirement already satisfied: tensorflow-io-gcs-filesystem>=0.23.1 in c:\\users\\pablo\\anaconda3\\lib\\site-packages (from tensorflow-intel==2.14.0->tensorflow) (0.31.0)\n",
      "Requirement already satisfied: grpcio<2.0,>=1.24.3 in c:\\users\\pablo\\anaconda3\\lib\\site-packages (from tensorflow-intel==2.14.0->tensorflow) (1.59.0)\n",
      "Requirement already satisfied: tensorboard<2.15,>=2.14 in c:\\users\\pablo\\anaconda3\\lib\\site-packages (from tensorflow-intel==2.14.0->tensorflow) (2.14.1)\n",
      "Requirement already satisfied: tensorflow-estimator<2.15,>=2.14.0 in c:\\users\\pablo\\anaconda3\\lib\\site-packages (from tensorflow-intel==2.14.0->tensorflow) (2.14.0)\n",
      "Requirement already satisfied: keras<2.15,>=2.14.0 in c:\\users\\pablo\\anaconda3\\lib\\site-packages (from tensorflow-intel==2.14.0->tensorflow) (2.14.0)\n",
      "Requirement already satisfied: wheel<1.0,>=0.23.0 in c:\\users\\pablo\\anaconda3\\lib\\site-packages (from astunparse>=1.6.0->tensorflow-intel==2.14.0->tensorflow) (0.38.4)\n",
      "Requirement already satisfied: google-auth<3,>=1.6.3 in c:\\users\\pablo\\anaconda3\\lib\\site-packages (from tensorboard<2.15,>=2.14->tensorflow-intel==2.14.0->tensorflow) (2.23.3)\n",
      "Requirement already satisfied: google-auth-oauthlib<1.1,>=0.5 in c:\\users\\pablo\\anaconda3\\lib\\site-packages (from tensorboard<2.15,>=2.14->tensorflow-intel==2.14.0->tensorflow) (1.0.0)\n",
      "Requirement already satisfied: markdown>=2.6.8 in c:\\users\\pablo\\anaconda3\\lib\\site-packages (from tensorboard<2.15,>=2.14->tensorflow-intel==2.14.0->tensorflow) (3.4.1)\n",
      "Requirement already satisfied: requests<3,>=2.21.0 in c:\\users\\pablo\\anaconda3\\lib\\site-packages (from tensorboard<2.15,>=2.14->tensorflow-intel==2.14.0->tensorflow) (2.31.0)\n",
      "Requirement already satisfied: tensorboard-data-server<0.8.0,>=0.7.0 in c:\\users\\pablo\\anaconda3\\lib\\site-packages (from tensorboard<2.15,>=2.14->tensorflow-intel==2.14.0->tensorflow) (0.7.2)\n",
      "Requirement already satisfied: werkzeug>=1.0.1 in c:\\users\\pablo\\anaconda3\\lib\\site-packages (from tensorboard<2.15,>=2.14->tensorflow-intel==2.14.0->tensorflow) (2.3.6)\n",
      "Requirement already satisfied: cachetools<6.0,>=2.0.0 in c:\\users\\pablo\\anaconda3\\lib\\site-packages (from google-auth<3,>=1.6.3->tensorboard<2.15,>=2.14->tensorflow-intel==2.14.0->tensorflow) (5.3.1)\n",
      "Requirement already satisfied: pyasn1-modules>=0.2.1 in c:\\users\\pablo\\anaconda3\\lib\\site-packages (from google-auth<3,>=1.6.3->tensorboard<2.15,>=2.14->tensorflow-intel==2.14.0->tensorflow) (0.2.8)\n",
      "Requirement already satisfied: rsa<5,>=3.1.4 in c:\\users\\pablo\\anaconda3\\lib\\site-packages (from google-auth<3,>=1.6.3->tensorboard<2.15,>=2.14->tensorflow-intel==2.14.0->tensorflow) (4.9)\n",
      "Requirement already satisfied: requests-oauthlib>=0.7.0 in c:\\users\\pablo\\anaconda3\\lib\\site-packages (from google-auth-oauthlib<1.1,>=0.5->tensorboard<2.15,>=2.14->tensorflow-intel==2.14.0->tensorflow) (1.3.1)\n",
      "Requirement already satisfied: charset-normalizer<4,>=2 in c:\\users\\pablo\\anaconda3\\lib\\site-packages (from requests<3,>=2.21.0->tensorboard<2.15,>=2.14->tensorflow-intel==2.14.0->tensorflow) (2.0.4)\n",
      "Requirement already satisfied: idna<4,>=2.5 in c:\\users\\pablo\\anaconda3\\lib\\site-packages (from requests<3,>=2.21.0->tensorboard<2.15,>=2.14->tensorflow-intel==2.14.0->tensorflow) (3.4)\n",
      "Requirement already satisfied: urllib3<3,>=1.21.1 in c:\\users\\pablo\\anaconda3\\lib\\site-packages (from requests<3,>=2.21.0->tensorboard<2.15,>=2.14->tensorflow-intel==2.14.0->tensorflow) (1.26.16)\n",
      "Requirement already satisfied: certifi>=2017.4.17 in c:\\users\\pablo\\anaconda3\\lib\\site-packages (from requests<3,>=2.21.0->tensorboard<2.15,>=2.14->tensorflow-intel==2.14.0->tensorflow) (2023.7.22)\n",
      "Requirement already satisfied: MarkupSafe>=2.1.1 in c:\\users\\pablo\\anaconda3\\lib\\site-packages (from werkzeug>=1.0.1->tensorboard<2.15,>=2.14->tensorflow-intel==2.14.0->tensorflow) (2.1.1)\n",
      "Requirement already satisfied: pyasn1<0.5.0,>=0.4.6 in c:\\users\\pablo\\anaconda3\\lib\\site-packages (from pyasn1-modules>=0.2.1->google-auth<3,>=1.6.3->tensorboard<2.15,>=2.14->tensorflow-intel==2.14.0->tensorflow) (0.4.8)\n",
      "Requirement already satisfied: oauthlib>=3.0.0 in c:\\users\\pablo\\anaconda3\\lib\\site-packages (from requests-oauthlib>=0.7.0->google-auth-oauthlib<1.1,>=0.5->tensorboard<2.15,>=2.14->tensorflow-intel==2.14.0->tensorflow) (3.2.2)\n"
     ]
    }
   ],
   "source": [
    "!pip install tensorflow"
   ]
  },
  {
   "cell_type": "code",
   "execution_count": 2,
   "metadata": {},
   "outputs": [
    {
     "name": "stdout",
     "output_type": "stream",
     "text": [
      "Requirement already satisfied: scipy in c:\\users\\pablo\\anaconda3\\lib\\site-packages (1.11.1)\n",
      "Requirement already satisfied: numpy<1.28.0,>=1.21.6 in c:\\users\\pablo\\anaconda3\\lib\\site-packages (from scipy) (1.24.3)\n"
     ]
    }
   ],
   "source": [
    "!pip install scipy"
   ]
  },
  {
   "cell_type": "code",
   "execution_count": 3,
   "metadata": {},
   "outputs": [],
   "source": [
    "import tensorflow as tf\n",
    "import scipy, numpy\n",
    "\n",
    "from tensorflow.keras.preprocessing.image import ImageDataGenerator\n",
    "from tensorflow.keras.models import Sequential\n",
    "from tensorflow.keras.layers import Conv2D, MaxPooling2D, Flatten, Dense, Dropout"
   ]
  },
  {
   "cell_type": "code",
   "execution_count": 4,
   "metadata": {},
   "outputs": [],
   "source": [
    "# Configurações para o treinamento\n",
    "train_data_dir = './data'\n",
    "batch_size = 32 # 32 imagens por lote\n",
    "num_epochs = 50 # 50 épocas de treinamento\n",
    "image_size = (150, 150) # 150x150 pixels\n",
    "num_classes = 2 # 2 classes: porco e gato"
   ]
  },
  {
   "cell_type": "code",
   "execution_count": 5,
   "metadata": {},
   "outputs": [],
   "source": [
    "train_datagen = ImageDataGenerator(\n",
    "    rescale=1.0/255,\n",
    "    validation_split=0.25, # 25% para validação\n",
    "    shear_range=0.2, # inclinação\n",
    "    zoom_range=0.2, # zoom\n",
    "    horizontal_flip=True # espelhamento horizontal\n",
    ")"
   ]
  },
  {
   "cell_type": "code",
   "execution_count": 6,
   "metadata": {},
   "outputs": [
    {
     "name": "stdout",
     "output_type": "stream",
     "text": [
      "Found 41 images belonging to 2 classes.\n"
     ]
    }
   ],
   "source": [
    "train_generator = train_datagen.flow_from_directory(\n",
    "    train_data_dir,\n",
    "    target_size=image_size,\n",
    "    batch_size=batch_size,\n",
    "    class_mode='binary',\n",
    "    subset='training'\n",
    ")"
   ]
  },
  {
   "cell_type": "code",
   "execution_count": 7,
   "metadata": {},
   "outputs": [
    {
     "name": "stdout",
     "output_type": "stream",
     "text": [
      "Found 12 images belonging to 2 classes.\n"
     ]
    }
   ],
   "source": [
    "validation_generator = train_datagen.flow_from_directory(\n",
    "    train_data_dir,\n",
    "    target_size=image_size,\n",
    "    batch_size=batch_size,\n",
    "    class_mode='binary',\n",
    "    subset='validation'\n",
    ")"
   ]
  },
  {
   "cell_type": "code",
   "execution_count": 9,
   "metadata": {},
   "outputs": [],
   "source": [
    "model = Sequential() # instanciando o modelo\n",
    "model.add(Conv2D(32, (3,3), input_shape=(image_size[0], image_size[1], 3), activation='relu')) # camada de convolução\n",
    "model.add(MaxPooling2D(pool_size=(2,2))) # camada de pooling\n",
    "model.add(Conv2D(64, (3,3), activation='relu')) # camada de convolução\n",
    "model.add(MaxPooling2D(pool_size=(2,2))) # camada de pooling\n",
    "model.add(Flatten()) # camada de achatamento ou vetorização\n",
    "model.add(Dense(64, activation='relu')) # neurônios\n",
    "model.add(Dropout(0.5)) # regularização 50% chance de desligar neurônios\n",
    "model.add(Dense(1, activation='sigmoid')) # camada de saída (classificação binária)"
   ]
  },
  {
   "cell_type": "code",
   "execution_count": 10,
   "metadata": {},
   "outputs": [],
   "source": [
    "# compilar o modelo\n",
    "model.compile(\n",
    "    optimizer='adam',\n",
    "    loss='binary_crossentropy', # mais próximo de 0 melhor 0.002 por exemplo\n",
    "    metrics=['accuracy']\n",
    ")"
   ]
  },
  {
   "cell_type": "code",
   "execution_count": 11,
   "metadata": {},
   "outputs": [
    {
     "name": "stdout",
     "output_type": "stream",
     "text": [
      "Epoch 1/50\n",
      "2/2 [==============================] - 1s 541ms/step - loss: 4.6504 - accuracy: 0.5366 - val_loss: 1.9835 - val_accuracy: 0.5000\n",
      "Epoch 2/50\n",
      "2/2 [==============================] - 1s 392ms/step - loss: 2.4318 - accuracy: 0.5610 - val_loss: 0.6926 - val_accuracy: 0.4167\n",
      "Epoch 3/50\n",
      "2/2 [==============================] - 1s 181ms/step - loss: 1.3862 - accuracy: 0.5122 - val_loss: 0.9832 - val_accuracy: 0.5000\n",
      "Epoch 4/50\n",
      "2/2 [==============================] - 1s 174ms/step - loss: 1.3740 - accuracy: 0.4634 - val_loss: 0.6889 - val_accuracy: 0.5000\n",
      "Epoch 5/50\n",
      "2/2 [==============================] - 1s 391ms/step - loss: 0.7490 - accuracy: 0.5366 - val_loss: 0.6684 - val_accuracy: 0.5000\n",
      "Epoch 6/50\n",
      "2/2 [==============================] - 1s 376ms/step - loss: 0.7024 - accuracy: 0.5122 - val_loss: 0.6847 - val_accuracy: 0.5000\n",
      "Epoch 7/50\n",
      "2/2 [==============================] - 0s 367ms/step - loss: 0.6708 - accuracy: 0.5854 - val_loss: 0.6696 - val_accuracy: 0.8333\n",
      "Epoch 8/50\n",
      "2/2 [==============================] - 0s 173ms/step - loss: 0.6477 - accuracy: 0.6585 - val_loss: 0.6613 - val_accuracy: 0.6667\n",
      "Epoch 9/50\n",
      "2/2 [==============================] - 1s 373ms/step - loss: 0.6982 - accuracy: 0.6341 - val_loss: 0.6032 - val_accuracy: 0.8333\n",
      "Epoch 10/50\n",
      "2/2 [==============================] - 1s 374ms/step - loss: 0.5925 - accuracy: 0.7317 - val_loss: 0.5918 - val_accuracy: 0.6667\n",
      "Epoch 11/50\n",
      "2/2 [==============================] - 1s 386ms/step - loss: 0.6156 - accuracy: 0.5854 - val_loss: 0.5861 - val_accuracy: 0.7500\n",
      "Epoch 12/50\n",
      "2/2 [==============================] - 0s 351ms/step - loss: 0.5482 - accuracy: 0.8049 - val_loss: 0.6222 - val_accuracy: 0.6667\n",
      "Epoch 13/50\n",
      "2/2 [==============================] - 0s 176ms/step - loss: 0.5711 - accuracy: 0.6829 - val_loss: 0.5644 - val_accuracy: 0.7500\n",
      "Epoch 14/50\n",
      "2/2 [==============================] - 0s 362ms/step - loss: 0.5156 - accuracy: 0.8049 - val_loss: 0.5714 - val_accuracy: 0.7500\n",
      "Epoch 15/50\n",
      "2/2 [==============================] - 0s 175ms/step - loss: 0.4946 - accuracy: 0.7805 - val_loss: 0.5451 - val_accuracy: 0.6667\n",
      "Epoch 16/50\n",
      "2/2 [==============================] - 0s 371ms/step - loss: 0.4145 - accuracy: 0.8293 - val_loss: 0.5052 - val_accuracy: 0.7500\n",
      "Epoch 17/50\n",
      "2/2 [==============================] - 1s 373ms/step - loss: 0.4933 - accuracy: 0.7073 - val_loss: 0.5033 - val_accuracy: 0.6667\n",
      "Epoch 18/50\n",
      "2/2 [==============================] - 0s 373ms/step - loss: 0.4439 - accuracy: 0.7805 - val_loss: 0.5850 - val_accuracy: 0.6667\n",
      "Epoch 19/50\n",
      "2/2 [==============================] - 1s 183ms/step - loss: 0.4112 - accuracy: 0.7561 - val_loss: 0.5835 - val_accuracy: 0.6667\n",
      "Epoch 20/50\n",
      "2/2 [==============================] - 0s 373ms/step - loss: 0.4252 - accuracy: 0.7805 - val_loss: 0.5011 - val_accuracy: 0.7500\n",
      "Epoch 21/50\n",
      "2/2 [==============================] - 1s 182ms/step - loss: 0.4074 - accuracy: 0.8049 - val_loss: 0.5249 - val_accuracy: 0.7500\n",
      "Epoch 22/50\n",
      "2/2 [==============================] - 0s 179ms/step - loss: 0.4391 - accuracy: 0.7561 - val_loss: 0.4767 - val_accuracy: 0.6667\n",
      "Epoch 23/50\n",
      "2/2 [==============================] - 1s 182ms/step - loss: 0.3697 - accuracy: 0.7561 - val_loss: 0.4224 - val_accuracy: 0.7500\n",
      "Epoch 24/50\n",
      "2/2 [==============================] - 1s 183ms/step - loss: 0.3540 - accuracy: 0.8780 - val_loss: 0.3829 - val_accuracy: 0.8333\n",
      "Epoch 25/50\n",
      "2/2 [==============================] - 1s 194ms/step - loss: 0.3764 - accuracy: 0.8293 - val_loss: 0.4186 - val_accuracy: 0.7500\n",
      "Epoch 26/50\n",
      "2/2 [==============================] - 1s 377ms/step - loss: 0.2707 - accuracy: 0.9024 - val_loss: 0.4880 - val_accuracy: 0.8333\n",
      "Epoch 27/50\n",
      "2/2 [==============================] - 0s 176ms/step - loss: 0.3952 - accuracy: 0.8049 - val_loss: 0.5145 - val_accuracy: 0.6667\n",
      "Epoch 28/50\n",
      "2/2 [==============================] - 0s 174ms/step - loss: 0.2300 - accuracy: 0.9268 - val_loss: 0.5396 - val_accuracy: 0.7500\n",
      "Epoch 29/50\n",
      "2/2 [==============================] - 1s 174ms/step - loss: 0.2357 - accuracy: 0.9268 - val_loss: 0.5213 - val_accuracy: 0.8333\n",
      "Epoch 30/50\n",
      "2/2 [==============================] - 1s 182ms/step - loss: 0.2827 - accuracy: 0.8293 - val_loss: 0.4965 - val_accuracy: 0.6667\n",
      "Epoch 31/50\n",
      "2/2 [==============================] - 0s 180ms/step - loss: 0.2943 - accuracy: 0.8537 - val_loss: 0.4619 - val_accuracy: 0.7500\n",
      "Epoch 32/50\n",
      "2/2 [==============================] - 0s 177ms/step - loss: 0.2189 - accuracy: 0.8537 - val_loss: 0.5686 - val_accuracy: 0.8333\n",
      "Epoch 33/50\n",
      "2/2 [==============================] - 0s 175ms/step - loss: 0.2548 - accuracy: 0.8780 - val_loss: 0.8402 - val_accuracy: 0.6667\n",
      "Epoch 34/50\n",
      "2/2 [==============================] - 1s 385ms/step - loss: 0.3675 - accuracy: 0.8293 - val_loss: 0.6312 - val_accuracy: 0.8333\n",
      "Epoch 35/50\n",
      "2/2 [==============================] - 1s 381ms/step - loss: 0.2692 - accuracy: 0.9024 - val_loss: 0.5835 - val_accuracy: 0.7500\n",
      "Epoch 36/50\n",
      "2/2 [==============================] - 0s 379ms/step - loss: 0.2481 - accuracy: 0.9024 - val_loss: 0.6078 - val_accuracy: 0.7500\n",
      "Epoch 37/50\n",
      "2/2 [==============================] - 0s 369ms/step - loss: 0.2536 - accuracy: 0.8780 - val_loss: 0.8346 - val_accuracy: 0.8333\n",
      "Epoch 38/50\n",
      "2/2 [==============================] - 0s 179ms/step - loss: 0.2699 - accuracy: 0.8780 - val_loss: 0.5694 - val_accuracy: 0.7500\n",
      "Epoch 39/50\n",
      "2/2 [==============================] - 0s 177ms/step - loss: 0.2170 - accuracy: 0.9024 - val_loss: 0.5494 - val_accuracy: 0.8333\n",
      "Epoch 40/50\n",
      "2/2 [==============================] - 0s 183ms/step - loss: 0.2155 - accuracy: 0.9756 - val_loss: 0.5837 - val_accuracy: 0.7500\n",
      "Epoch 41/50\n",
      "2/2 [==============================] - 0s 366ms/step - loss: 0.1604 - accuracy: 0.9268 - val_loss: 0.5077 - val_accuracy: 0.7500\n",
      "Epoch 42/50\n",
      "2/2 [==============================] - 1s 177ms/step - loss: 0.1468 - accuracy: 0.9512 - val_loss: 0.6055 - val_accuracy: 0.7500\n",
      "Epoch 43/50\n",
      "2/2 [==============================] - 1s 386ms/step - loss: 0.1330 - accuracy: 0.9512 - val_loss: 0.6534 - val_accuracy: 0.7500\n",
      "Epoch 44/50\n",
      "2/2 [==============================] - 1s 384ms/step - loss: 0.2311 - accuracy: 0.9024 - val_loss: 0.8878 - val_accuracy: 0.5833\n",
      "Epoch 45/50\n",
      "2/2 [==============================] - 0s 370ms/step - loss: 0.1348 - accuracy: 0.9512 - val_loss: 0.6045 - val_accuracy: 0.6667\n",
      "Epoch 46/50\n",
      "2/2 [==============================] - 0s 369ms/step - loss: 0.1315 - accuracy: 1.0000 - val_loss: 0.8807 - val_accuracy: 0.6667\n",
      "Epoch 47/50\n",
      "2/2 [==============================] - 1s 380ms/step - loss: 0.1563 - accuracy: 0.9512 - val_loss: 0.7378 - val_accuracy: 0.7500\n",
      "Epoch 48/50\n",
      "2/2 [==============================] - 0s 370ms/step - loss: 0.1856 - accuracy: 0.9756 - val_loss: 0.9217 - val_accuracy: 0.7500\n",
      "Epoch 49/50\n",
      "2/2 [==============================] - 1s 387ms/step - loss: 0.1765 - accuracy: 0.9268 - val_loss: 0.7529 - val_accuracy: 0.7500\n",
      "Epoch 50/50\n",
      "2/2 [==============================] - 0s 182ms/step - loss: 0.1350 - accuracy: 0.9756 - val_loss: 0.6216 - val_accuracy: 0.7500\n",
      "Treinamento concluído!\n"
     ]
    },
    {
     "name": "stderr",
     "output_type": "stream",
     "text": [
      "c:\\Users\\pablo\\anaconda3\\Lib\\site-packages\\keras\\src\\engine\\training.py:3079: UserWarning: You are saving your model as an HDF5 file via `model.save()`. This file format is considered legacy. We recommend using instead the native Keras format, e.g. `model.save('my_model.keras')`.\n",
      "  saving_api.save_model(\n"
     ]
    }
   ],
   "source": [
    "# Treinamento\n",
    "model.fit(\n",
    "    train_generator,\n",
    "    epochs=num_epochs,\n",
    "    validation_data=validation_generator\n",
    ")\n",
    "\n",
    "print('Treinamento concluído!')\n",
    "\n",
    "# Salvar o modelo\n",
    "model.save('modelo_aula.h5')"
   ]
  }
 ],
 "metadata": {
  "kernelspec": {
   "display_name": "base",
   "language": "python",
   "name": "python3"
  },
  "language_info": {
   "codemirror_mode": {
    "name": "ipython",
    "version": 3
   },
   "file_extension": ".py",
   "mimetype": "text/x-python",
   "name": "python",
   "nbconvert_exporter": "python",
   "pygments_lexer": "ipython3",
   "version": "3.11.4"
  }
 },
 "nbformat": 4,
 "nbformat_minor": 2
}
