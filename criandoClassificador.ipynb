{
 "cells": [
  {
   "cell_type": "code",
   "execution_count": 1,
   "metadata": {},
   "outputs": [],
   "source": [
    "import tensorflow as tf\n",
    "import scipy, numpy\n",
    "\n",
    "from tensorflow.keras.preprocessing.image import ImageDataGenerator\n",
    "from tensorflow.keras.models import Sequential\n",
    "from tensorflow.keras.layers import Conv2D, MaxPooling2D, Flatten, Dense, Dropout"
   ]
  },
  {
   "cell_type": "code",
   "execution_count": 2,
   "metadata": {},
   "outputs": [],
   "source": [
    "# Configurações para o treinamento\n",
    "train_data_dir = './data'\n",
    "batch_size = 32 # 32 imagens por lote\n",
    "num_epochs = 50 # 50 épocas de treinamento\n",
    "image_size = (150, 150) # 150x150 pixels\n",
    "num_classes = 2 # 2 classes: porco e gato"
   ]
  },
  {
   "cell_type": "code",
   "execution_count": 3,
   "metadata": {},
   "outputs": [],
   "source": [
    "train_datagen = ImageDataGenerator(\n",
    "    rescale = 1.0/255,\n",
    "    validation_split = 0.25, # 25% para validação\n",
    "    shear_range = 0.2, # inclinação\n",
    "    zoom_range = 0.2, # zoom\n",
    "    horizontal_flip = True # espelhamento horizontal\n",
    ")"
   ]
  },
  {
   "cell_type": "code",
   "execution_count": 4,
   "metadata": {},
   "outputs": [
    {
     "name": "stdout",
     "output_type": "stream",
     "text": [
      "Found 16 images belonging to 2 classes.\n"
     ]
    }
   ],
   "source": [
    "train_generator = train_datagen.flow_from_directory(\n",
    "    train_data_dir,\n",
    "    target_size = image_size,\n",
    "    batch_size = batch_size,\n",
    "    class_mode = 'binary',\n",
    "    subset = 'training'\n",
    ")"
   ]
  },
  {
   "cell_type": "code",
   "execution_count": 5,
   "metadata": {},
   "outputs": [
    {
     "name": "stdout",
     "output_type": "stream",
     "text": [
      "Found 4 images belonging to 2 classes.\n"
     ]
    }
   ],
   "source": [
    "validation_generator = train_datagen.flow_from_directory(\n",
    "    train_data_dir,\n",
    "    target_size = image_size,\n",
    "    batch_size = batch_size,\n",
    "    class_mode = 'binary',\n",
    "    subset = 'validation'\n",
    ")"
   ]
  },
  {
   "cell_type": "code",
   "execution_count": 6,
   "metadata": {},
   "outputs": [],
   "source": [
    "model = Sequential() # instanciando o modelo\n",
    "model.add(Conv2D(32, (3,3), input_shape=(image_size[0], image_size[1], 3), activation='relu')) # camada de convolução\n",
    "model.add(MaxPooling2D(pool_size=(2,2))) # camada de pooling\n",
    "model.add(Conv2D(64, (3,3), activation='relu')) # camada de convolução\n",
    "model.add(MaxPooling2D(pool_size=(2,2))) # camada de pooling\n",
    "model.add(Flatten()) # camada de achatamento ou vetorização\n",
    "model.add(Dense(64, activation='relu')) # neurônios\n",
    "model.add(Dropout(0.5)) # regularização 50% chance de desligar neurônios\n",
    "model.add(Dense(1, activation='sigmoid')) # camada de saída (classificação binária)"
   ]
  },
  {
   "cell_type": "code",
   "execution_count": 7,
   "metadata": {},
   "outputs": [],
   "source": [
    "# compilar o modelo\n",
    "model.compile(\n",
    "    optimizer = 'adam',\n",
    "    loss = 'binary_crossentropy', # mais próximo de 0 melhor, 0.002 por exemplo\n",
    "    metrics = ['accuracy']\n",
    ")"
   ]
  },
  {
   "cell_type": "code",
   "execution_count": 8,
   "metadata": {},
   "outputs": [
    {
     "name": "stdout",
     "output_type": "stream",
     "text": [
      "Epoch 1/50\n",
      "1/1 [==============================] - 1s 1s/step - loss: 0.7121 - accuracy: 0.3750 - val_loss: 2.9003 - val_accuracy: 0.5000\n",
      "Epoch 2/50\n",
      "1/1 [==============================] - 0s 364ms/step - loss: 3.2208 - accuracy: 0.5000 - val_loss: 0.8212 - val_accuracy: 0.5000\n",
      "Epoch 3/50\n",
      "1/1 [==============================] - 0s 403ms/step - loss: 1.0637 - accuracy: 0.6250 - val_loss: 0.6242 - val_accuracy: 0.5000\n",
      "Epoch 4/50\n",
      "1/1 [==============================] - 0s 394ms/step - loss: 2.1093 - accuracy: 0.5000 - val_loss: 0.6287 - val_accuracy: 0.5000\n",
      "Epoch 5/50\n",
      "1/1 [==============================] - 0s 427ms/step - loss: 0.8665 - accuracy: 0.5625 - val_loss: 0.6673 - val_accuracy: 0.5000\n",
      "Epoch 6/50\n",
      "1/1 [==============================] - 0s 404ms/step - loss: 0.6747 - accuracy: 0.7500 - val_loss: 0.6376 - val_accuracy: 0.5000\n",
      "Epoch 7/50\n",
      "1/1 [==============================] - 0s 358ms/step - loss: 0.8453 - accuracy: 0.6250 - val_loss: 0.5697 - val_accuracy: 0.5000\n",
      "Epoch 8/50\n",
      "1/1 [==============================] - 0s 357ms/step - loss: 0.9341 - accuracy: 0.5625 - val_loss: 0.5005 - val_accuracy: 1.0000\n",
      "Epoch 9/50\n",
      "1/1 [==============================] - 0s 335ms/step - loss: 0.7211 - accuracy: 0.4375 - val_loss: 0.6003 - val_accuracy: 0.5000\n",
      "Epoch 10/50\n",
      "1/1 [==============================] - 0s 364ms/step - loss: 0.7551 - accuracy: 0.4375 - val_loss: 0.5853 - val_accuracy: 0.5000\n",
      "Epoch 11/50\n",
      "1/1 [==============================] - 0s 339ms/step - loss: 0.6437 - accuracy: 0.5625 - val_loss: 0.5647 - val_accuracy: 1.0000\n",
      "Epoch 12/50\n",
      "1/1 [==============================] - 0s 337ms/step - loss: 0.6062 - accuracy: 0.5625 - val_loss: 0.5443 - val_accuracy: 1.0000\n",
      "Epoch 13/50\n",
      "1/1 [==============================] - 0s 338ms/step - loss: 0.6403 - accuracy: 0.6875 - val_loss: 0.4888 - val_accuracy: 1.0000\n",
      "Epoch 14/50\n",
      "1/1 [==============================] - 0s 354ms/step - loss: 0.5939 - accuracy: 0.8125 - val_loss: 0.3949 - val_accuracy: 1.0000\n",
      "Epoch 15/50\n",
      "1/1 [==============================] - 0s 368ms/step - loss: 0.4736 - accuracy: 0.9375 - val_loss: 0.3063 - val_accuracy: 1.0000\n",
      "Epoch 16/50\n",
      "1/1 [==============================] - 0s 416ms/step - loss: 0.3685 - accuracy: 0.8125 - val_loss: 0.2717 - val_accuracy: 1.0000\n",
      "Epoch 17/50\n",
      "1/1 [==============================] - 0s 395ms/step - loss: 0.4740 - accuracy: 0.7500 - val_loss: 0.1843 - val_accuracy: 1.0000\n",
      "Epoch 18/50\n",
      "1/1 [==============================] - 0s 416ms/step - loss: 0.4068 - accuracy: 0.8750 - val_loss: 0.1503 - val_accuracy: 1.0000\n",
      "Epoch 19/50\n",
      "1/1 [==============================] - 0s 470ms/step - loss: 0.3362 - accuracy: 0.8750 - val_loss: 0.1192 - val_accuracy: 1.0000\n",
      "Epoch 20/50\n",
      "1/1 [==============================] - 0s 487ms/step - loss: 0.2491 - accuracy: 0.8750 - val_loss: 0.1938 - val_accuracy: 1.0000\n",
      "Epoch 21/50\n",
      "1/1 [==============================] - 0s 439ms/step - loss: 0.3157 - accuracy: 0.8125 - val_loss: 0.0861 - val_accuracy: 1.0000\n",
      "Epoch 22/50\n",
      "1/1 [==============================] - 0s 462ms/step - loss: 0.1925 - accuracy: 0.9375 - val_loss: 0.1061 - val_accuracy: 1.0000\n",
      "Epoch 23/50\n",
      "1/1 [==============================] - 0s 438ms/step - loss: 0.4182 - accuracy: 0.8125 - val_loss: 0.0751 - val_accuracy: 1.0000\n",
      "Epoch 24/50\n",
      "1/1 [==============================] - 0s 473ms/step - loss: 0.2852 - accuracy: 0.8750 - val_loss: 0.0601 - val_accuracy: 1.0000\n",
      "Epoch 25/50\n",
      "1/1 [==============================] - 0s 443ms/step - loss: 0.2877 - accuracy: 0.8750 - val_loss: 0.0725 - val_accuracy: 1.0000\n",
      "Epoch 26/50\n",
      "1/1 [==============================] - 0s 461ms/step - loss: 0.2177 - accuracy: 0.9375 - val_loss: 0.1074 - val_accuracy: 1.0000\n",
      "Epoch 27/50\n",
      "1/1 [==============================] - 0s 435ms/step - loss: 0.2961 - accuracy: 0.8750 - val_loss: 0.0592 - val_accuracy: 1.0000\n",
      "Epoch 28/50\n",
      "1/1 [==============================] - 0s 464ms/step - loss: 0.1855 - accuracy: 1.0000 - val_loss: 0.0439 - val_accuracy: 1.0000\n",
      "Epoch 29/50\n",
      "1/1 [==============================] - 0s 443ms/step - loss: 0.1857 - accuracy: 0.9375 - val_loss: 0.0495 - val_accuracy: 1.0000\n",
      "Epoch 30/50\n",
      "1/1 [==============================] - 1s 510ms/step - loss: 0.4114 - accuracy: 0.8125 - val_loss: 0.0395 - val_accuracy: 1.0000\n",
      "Epoch 31/50\n",
      "1/1 [==============================] - 0s 468ms/step - loss: 0.3427 - accuracy: 0.8125 - val_loss: 0.0365 - val_accuracy: 1.0000\n",
      "Epoch 32/50\n",
      "1/1 [==============================] - 0s 450ms/step - loss: 0.1167 - accuracy: 1.0000 - val_loss: 0.0642 - val_accuracy: 1.0000\n",
      "Epoch 33/50\n",
      "1/1 [==============================] - 0s 491ms/step - loss: 0.1713 - accuracy: 0.9375 - val_loss: 0.0761 - val_accuracy: 1.0000\n",
      "Epoch 34/50\n",
      "1/1 [==============================] - 0s 459ms/step - loss: 0.2740 - accuracy: 0.8750 - val_loss: 0.0512 - val_accuracy: 1.0000\n",
      "Epoch 35/50\n",
      "1/1 [==============================] - 0s 428ms/step - loss: 0.1118 - accuracy: 1.0000 - val_loss: 0.0426 - val_accuracy: 1.0000\n",
      "Epoch 36/50\n",
      "1/1 [==============================] - 1s 504ms/step - loss: 0.2379 - accuracy: 0.8750 - val_loss: 0.0403 - val_accuracy: 1.0000\n",
      "Epoch 37/50\n",
      "1/1 [==============================] - 0s 458ms/step - loss: 0.2040 - accuracy: 0.8750 - val_loss: 0.0499 - val_accuracy: 1.0000\n",
      "Epoch 38/50\n",
      "1/1 [==============================] - 0s 475ms/step - loss: 0.2107 - accuracy: 0.9375 - val_loss: 0.0366 - val_accuracy: 1.0000\n",
      "Epoch 39/50\n",
      "1/1 [==============================] - 0s 423ms/step - loss: 0.1619 - accuracy: 0.9375 - val_loss: 0.0463 - val_accuracy: 1.0000\n",
      "Epoch 40/50\n",
      "1/1 [==============================] - 0s 430ms/step - loss: 0.1068 - accuracy: 1.0000 - val_loss: 0.0604 - val_accuracy: 1.0000\n",
      "Epoch 41/50\n",
      "1/1 [==============================] - 0s 453ms/step - loss: 0.1180 - accuracy: 1.0000 - val_loss: 0.1211 - val_accuracy: 1.0000\n",
      "Epoch 42/50\n",
      "1/1 [==============================] - 0s 450ms/step - loss: 0.2990 - accuracy: 0.8125 - val_loss: 0.0585 - val_accuracy: 1.0000\n",
      "Epoch 43/50\n",
      "1/1 [==============================] - 0s 492ms/step - loss: 0.0839 - accuracy: 1.0000 - val_loss: 0.0277 - val_accuracy: 1.0000\n",
      "Epoch 44/50\n",
      "1/1 [==============================] - 0s 479ms/step - loss: 0.1400 - accuracy: 0.8750 - val_loss: 0.0501 - val_accuracy: 1.0000\n",
      "Epoch 45/50\n",
      "1/1 [==============================] - 0s 418ms/step - loss: 0.2148 - accuracy: 0.8750 - val_loss: 0.0563 - val_accuracy: 1.0000\n",
      "Epoch 46/50\n",
      "1/1 [==============================] - 0s 466ms/step - loss: 0.2101 - accuracy: 0.8750 - val_loss: 0.0371 - val_accuracy: 1.0000\n",
      "Epoch 47/50\n",
      "1/1 [==============================] - 0s 436ms/step - loss: 0.0967 - accuracy: 0.9375 - val_loss: 0.0459 - val_accuracy: 1.0000\n",
      "Epoch 48/50\n",
      "1/1 [==============================] - 0s 482ms/step - loss: 0.0659 - accuracy: 1.0000 - val_loss: 0.0405 - val_accuracy: 1.0000\n",
      "Epoch 49/50\n",
      "1/1 [==============================] - 1s 512ms/step - loss: 0.0488 - accuracy: 1.0000 - val_loss: 0.0599 - val_accuracy: 1.0000\n",
      "Epoch 50/50\n",
      "1/1 [==============================] - 0s 480ms/step - loss: 0.0460 - accuracy: 1.0000 - val_loss: 0.0852 - val_accuracy: 1.0000\n",
      "Treinamento concluído!\n"
     ]
    }
   ],
   "source": [
    "# treinamento\n",
    "model.fit(\n",
    "    train_generator,\n",
    "    epochs = num_epochs,\n",
    "    validation_data = validation_generator\n",
    ")\n",
    "\n",
    "print('Treinamento concluído!')\n",
    "\n",
    "# salvar o modelo\n",
    "model.save('cfModeloPaolaFantinel.keras')"
   ]
  }
 ],
 "metadata": {
  "kernelspec": {
   "display_name": "base",
   "language": "python",
   "name": "python3"
  },
  "language_info": {
   "codemirror_mode": {
    "name": "ipython",
    "version": 3
   },
   "file_extension": ".py",
   "mimetype": "text/x-python",
   "name": "python",
   "nbconvert_exporter": "python",
   "pygments_lexer": "ipython3",
   "version": "3.11.4"
  }
 },
 "nbformat": 4,
 "nbformat_minor": 2
}
