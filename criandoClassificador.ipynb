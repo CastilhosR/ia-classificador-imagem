{
 "cells": [
  {
   "cell_type": "code",
   "execution_count": 1,
   "metadata": {
    "execution": {
     "iopub.execute_input": "2023-11-23T22:02:44.146044Z",
     "iopub.status.busy": "2023-11-23T22:02:44.145504Z",
     "iopub.status.idle": "2023-11-23T22:02:46.011190Z",
     "shell.execute_reply": "2023-11-23T22:02:46.010638Z",
     "shell.execute_reply.started": "2023-11-23T22:02:44.146016Z"
    },
    "tags": []
   },
   "outputs": [
    {
     "name": "stderr",
     "output_type": "stream",
     "text": [
      "2023-11-23 19:02:44.374309: I tensorflow/tsl/cuda/cudart_stub.cc:28] Could not find cuda drivers on your machine, GPU will not be used.\n",
      "2023-11-23 19:02:44.412078: I tensorflow/tsl/cuda/cudart_stub.cc:28] Could not find cuda drivers on your machine, GPU will not be used.\n",
      "2023-11-23 19:02:44.412733: I tensorflow/core/platform/cpu_feature_guard.cc:182] This TensorFlow binary is optimized to use available CPU instructions in performance-critical operations.\n",
      "To enable the following instructions: AVX2 FMA, in other operations, rebuild TensorFlow with the appropriate compiler flags.\n",
      "2023-11-23 19:02:45.206564: W tensorflow/compiler/tf2tensorrt/utils/py_utils.cc:38] TF-TRT Warning: Could not find TensorRT\n"
     ]
    }
   ],
   "source": [
    "import tensorflow as tf\n",
    "import scipy, numpy\n",
    "\n",
    "from tensorflow.keras.preprocessing.image import ImageDataGenerator\n",
    "from tensorflow.keras.models import Sequential\n",
    "from tensorflow.keras.layers import Conv2D, MaxPooling2D, Flatten, Dense, Dropout"
   ]
  },
  {
   "cell_type": "code",
   "execution_count": 10,
   "metadata": {
    "execution": {
     "iopub.execute_input": "2023-11-23T22:04:48.122456Z",
     "iopub.status.busy": "2023-11-23T22:04:48.122081Z",
     "iopub.status.idle": "2023-11-23T22:04:48.127365Z",
     "shell.execute_reply": "2023-11-23T22:04:48.126386Z",
     "shell.execute_reply.started": "2023-11-23T22:04:48.122388Z"
    },
    "tags": []
   },
   "outputs": [],
   "source": [
    "# Configurações para o treinamento\n",
    "train_data_dir = './data'\n",
    "batch_size = 32 # 32 imagens por lote\n",
    "num_epochs = 100 # 100 épocas de treinamento\n",
    "image_size = (150, 150) # 150x150 pixels\n",
    "num_classes = 2 # 2 classes: 'Papai Noel' e 'Não Papai Noel'"
   ]
  },
  {
   "cell_type": "code",
   "execution_count": 3,
   "metadata": {
    "execution": {
     "iopub.execute_input": "2023-11-23T22:02:46.017184Z",
     "iopub.status.busy": "2023-11-23T22:02:46.016925Z",
     "iopub.status.idle": "2023-11-23T22:02:46.233140Z",
     "shell.execute_reply": "2023-11-23T22:02:46.230208Z",
     "shell.execute_reply.started": "2023-11-23T22:02:46.017165Z"
    },
    "tags": []
   },
   "outputs": [],
   "source": [
    "train_datagen = ImageDataGenerator(\n",
    "    rescale = 1.0/255,\n",
    "    validation_split = 0.25, # 25% para validação\n",
    "    shear_range = 0.2, # inclinação\n",
    "    zoom_range = 0.2, # zoom\n",
    "    horizontal_flip = True # espelhamento horizontal\n",
    ")"
   ]
  },
  {
   "cell_type": "code",
   "execution_count": 4,
   "metadata": {
    "execution": {
     "iopub.execute_input": "2023-11-23T22:02:46.239721Z",
     "iopub.status.busy": "2023-11-23T22:02:46.238792Z",
     "iopub.status.idle": "2023-11-23T22:02:46.504306Z",
     "shell.execute_reply": "2023-11-23T22:02:46.502548Z",
     "shell.execute_reply.started": "2023-11-23T22:02:46.239639Z"
    },
    "tags": []
   },
   "outputs": [
    {
     "name": "stdout",
     "output_type": "stream",
     "text": [
      "Found 462 images belonging to 2 classes.\n"
     ]
    }
   ],
   "source": [
    "train_generator = train_datagen.flow_from_directory(\n",
    "    train_data_dir,\n",
    "    target_size = image_size,\n",
    "    batch_size = batch_size,\n",
    "    class_mode = 'binary',\n",
    "    subset = 'training'\n",
    ")"
   ]
  },
  {
   "cell_type": "code",
   "execution_count": 5,
   "metadata": {
    "execution": {
     "iopub.execute_input": "2023-11-23T22:02:46.507816Z",
     "iopub.status.busy": "2023-11-23T22:02:46.507253Z",
     "iopub.status.idle": "2023-11-23T22:02:46.665836Z",
     "shell.execute_reply": "2023-11-23T22:02:46.663425Z",
     "shell.execute_reply.started": "2023-11-23T22:02:46.507766Z"
    },
    "tags": []
   },
   "outputs": [
    {
     "name": "stdout",
     "output_type": "stream",
     "text": [
      "Found 152 images belonging to 2 classes.\n"
     ]
    }
   ],
   "source": [
    "validation_generator = train_datagen.flow_from_directory(\n",
    "    train_data_dir,\n",
    "    target_size = image_size,\n",
    "    batch_size = batch_size,\n",
    "    class_mode = 'binary',\n",
    "    subset = 'validation'\n",
    ")"
   ]
  },
  {
   "cell_type": "code",
   "execution_count": 6,
   "metadata": {
    "execution": {
     "iopub.execute_input": "2023-11-23T22:02:48.144866Z",
     "iopub.status.busy": "2023-11-23T22:02:48.142011Z",
     "iopub.status.idle": "2023-11-23T22:02:48.368792Z",
     "shell.execute_reply": "2023-11-23T22:02:48.368069Z",
     "shell.execute_reply.started": "2023-11-23T22:02:48.144768Z"
    },
    "tags": []
   },
   "outputs": [],
   "source": [
    "model = Sequential()\n",
    "\n",
    "model.add(Conv2D(64, (3, 3), input_shape=(image_size[0], image_size[1], 3), activation='relu'))\n",
    "model.add(MaxPooling2D(pool_size=(2, 2)))\n",
    "\n",
    "model.add(Conv2D(128, (3, 3), activation='relu'))\n",
    "model.add(MaxPooling2D(pool_size=(2, 2)))\n",
    "\n",
    "model.add(Conv2D(256, (3, 3), activation='relu'))\n",
    "model.add(MaxPooling2D(pool_size=(2, 2)))\n",
    "\n",
    "model.add(Conv2D(512, (3, 3), activation='relu'))\n",
    "model.add(MaxPooling2D(pool_size=(2, 2)))\n",
    "\n",
    "model.add(Flatten())\n",
    "\n",
    "model.add(Dense(512, activation='relu'))\n",
    "model.add(Dropout(0.5))\n",
    "\n",
    "model.add(Dense(256, activation='relu'))\n",
    "model.add(Dropout(0.5))\n",
    "\n",
    "model.add(Dense(128, activation='relu'))\n",
    "model.add(Dropout(0.5))\n",
    "\n",
    "model.add(Dense(64, activation='relu'))\n",
    "model.add(Dropout(0.5))\n",
    "\n",
    "model.add(Dense(1, activation='sigmoid'))"
   ]
  },
  {
   "cell_type": "code",
   "execution_count": 7,
   "metadata": {
    "execution": {
     "iopub.execute_input": "2023-11-23T22:02:51.901531Z",
     "iopub.status.busy": "2023-11-23T22:02:51.901180Z",
     "iopub.status.idle": "2023-11-23T22:02:52.022807Z",
     "shell.execute_reply": "2023-11-23T22:02:52.021493Z",
     "shell.execute_reply.started": "2023-11-23T22:02:51.901502Z"
    },
    "tags": []
   },
   "outputs": [],
   "source": [
    "# compilar o modelo\n",
    "model.compile(\n",
    "    optimizer = 'adam',\n",
    "    loss = 'binary_crossentropy', # mais próximo de 0 melhor, 0.002 por exemplo\n",
    "    metrics = ['accuracy']\n",
    ")"
   ]
  },
  {
   "cell_type": "code",
   "execution_count": 11,
   "metadata": {
    "execution": {
     "iopub.execute_input": "2023-11-23T22:04:51.647623Z",
     "iopub.status.busy": "2023-11-23T22:04:51.646907Z",
     "iopub.status.idle": "2023-11-23T22:48:59.034463Z",
     "shell.execute_reply": "2023-11-23T22:48:59.033161Z",
     "shell.execute_reply.started": "2023-11-23T22:04:51.647560Z"
    },
    "tags": []
   },
   "outputs": [
    {
     "name": "stdout",
     "output_type": "stream",
     "text": [
      "Epoch 1/100\n",
      "15/15 [==============================] - 23s 2s/step - loss: 0.5881 - accuracy: 0.8009 - val_loss: 0.4972 - val_accuracy: 0.8618\n",
      "Epoch 2/100\n",
      "15/15 [==============================] - 27s 2s/step - loss: 0.5481 - accuracy: 0.8528 - val_loss: 0.5936 - val_accuracy: 0.8026\n",
      "Epoch 3/100\n",
      "15/15 [==============================] - 26s 2s/step - loss: 0.5558 - accuracy: 0.7965 - val_loss: 0.5187 - val_accuracy: 0.8355\n",
      "Epoch 4/100\n",
      "15/15 [==============================] - 26s 2s/step - loss: 0.4916 - accuracy: 0.8745 - val_loss: 0.4476 - val_accuracy: 0.8684\n",
      "Epoch 5/100\n",
      "15/15 [==============================] - 26s 2s/step - loss: 0.4351 - accuracy: 0.8788 - val_loss: 0.3746 - val_accuracy: 0.8684\n",
      "Epoch 6/100\n",
      "15/15 [==============================] - 26s 2s/step - loss: 0.3960 - accuracy: 0.8680 - val_loss: 0.3706 - val_accuracy: 0.8487\n",
      "Epoch 7/100\n",
      "15/15 [==============================] - 26s 2s/step - loss: 0.3414 - accuracy: 0.8723 - val_loss: 0.2873 - val_accuracy: 0.8947\n",
      "Epoch 8/100\n",
      "15/15 [==============================] - 26s 2s/step - loss: 0.3129 - accuracy: 0.8939 - val_loss: 0.4161 - val_accuracy: 0.8289\n",
      "Epoch 9/100\n",
      "15/15 [==============================] - 26s 2s/step - loss: 0.2773 - accuracy: 0.8874 - val_loss: 0.5246 - val_accuracy: 0.8618\n",
      "Epoch 10/100\n",
      "15/15 [==============================] - 26s 2s/step - loss: 0.2430 - accuracy: 0.8983 - val_loss: 0.5909 - val_accuracy: 0.8750\n",
      "Epoch 11/100\n",
      "15/15 [==============================] - 26s 2s/step - loss: 0.2754 - accuracy: 0.9048 - val_loss: 0.4126 - val_accuracy: 0.8750\n",
      "Epoch 12/100\n",
      "15/15 [==============================] - 27s 2s/step - loss: 0.2408 - accuracy: 0.9199 - val_loss: 0.5234 - val_accuracy: 0.8882\n",
      "Epoch 13/100\n",
      "15/15 [==============================] - 27s 2s/step - loss: 0.2404 - accuracy: 0.9026 - val_loss: 0.4954 - val_accuracy: 0.8882\n",
      "Epoch 14/100\n",
      "15/15 [==============================] - 27s 2s/step - loss: 0.2398 - accuracy: 0.9199 - val_loss: 0.3238 - val_accuracy: 0.8750\n",
      "Epoch 15/100\n",
      "15/15 [==============================] - 27s 2s/step - loss: 0.2374 - accuracy: 0.9242 - val_loss: 0.3583 - val_accuracy: 0.8816\n",
      "Epoch 16/100\n",
      "15/15 [==============================] - 26s 2s/step - loss: 0.2096 - accuracy: 0.9177 - val_loss: 0.3458 - val_accuracy: 0.8816\n",
      "Epoch 17/100\n",
      "15/15 [==============================] - 27s 2s/step - loss: 0.2013 - accuracy: 0.9351 - val_loss: 0.2663 - val_accuracy: 0.9079\n",
      "Epoch 18/100\n",
      "15/15 [==============================] - 26s 2s/step - loss: 0.1659 - accuracy: 0.9437 - val_loss: 0.6170 - val_accuracy: 0.8487\n",
      "Epoch 19/100\n",
      "15/15 [==============================] - 27s 2s/step - loss: 0.1984 - accuracy: 0.9372 - val_loss: 0.4382 - val_accuracy: 0.8947\n",
      "Epoch 20/100\n",
      "15/15 [==============================] - 26s 2s/step - loss: 0.1832 - accuracy: 0.9372 - val_loss: 0.3128 - val_accuracy: 0.8947\n",
      "Epoch 21/100\n",
      "15/15 [==============================] - 26s 2s/step - loss: 0.1622 - accuracy: 0.9372 - val_loss: 0.3859 - val_accuracy: 0.8882\n",
      "Epoch 22/100\n",
      "15/15 [==============================] - 27s 2s/step - loss: 0.1771 - accuracy: 0.9329 - val_loss: 0.3408 - val_accuracy: 0.8882\n",
      "Epoch 23/100\n",
      "15/15 [==============================] - 27s 2s/step - loss: 0.1479 - accuracy: 0.9524 - val_loss: 0.3583 - val_accuracy: 0.8882\n",
      "Epoch 24/100\n",
      "15/15 [==============================] - 26s 2s/step - loss: 0.2028 - accuracy: 0.9502 - val_loss: 0.3191 - val_accuracy: 0.9079\n",
      "Epoch 25/100\n",
      "15/15 [==============================] - 26s 2s/step - loss: 0.1667 - accuracy: 0.9372 - val_loss: 0.2933 - val_accuracy: 0.8947\n",
      "Epoch 26/100\n",
      "15/15 [==============================] - 29s 2s/step - loss: 0.1215 - accuracy: 0.9545 - val_loss: 0.5176 - val_accuracy: 0.9013\n",
      "Epoch 27/100\n",
      "15/15 [==============================] - 27s 2s/step - loss: 0.1295 - accuracy: 0.9545 - val_loss: 0.5418 - val_accuracy: 0.8750\n",
      "Epoch 28/100\n",
      "15/15 [==============================] - 26s 2s/step - loss: 0.1614 - accuracy: 0.9502 - val_loss: 0.4290 - val_accuracy: 0.8947\n",
      "Epoch 29/100\n",
      "15/15 [==============================] - 30s 2s/step - loss: 0.1270 - accuracy: 0.9654 - val_loss: 0.4851 - val_accuracy: 0.8882\n",
      "Epoch 30/100\n",
      "15/15 [==============================] - 27s 2s/step - loss: 0.1253 - accuracy: 0.9545 - val_loss: 0.3203 - val_accuracy: 0.8947\n",
      "Epoch 31/100\n",
      "15/15 [==============================] - 26s 2s/step - loss: 0.1352 - accuracy: 0.9481 - val_loss: 0.5327 - val_accuracy: 0.8684\n",
      "Epoch 32/100\n",
      "15/15 [==============================] - 26s 2s/step - loss: 0.1363 - accuracy: 0.9567 - val_loss: 0.3566 - val_accuracy: 0.8947\n",
      "Epoch 33/100\n",
      "15/15 [==============================] - 26s 2s/step - loss: 0.1372 - accuracy: 0.9416 - val_loss: 0.3827 - val_accuracy: 0.8947\n",
      "Epoch 34/100\n",
      "15/15 [==============================] - 26s 2s/step - loss: 0.1270 - accuracy: 0.9502 - val_loss: 0.4110 - val_accuracy: 0.8947\n",
      "Epoch 35/100\n",
      "15/15 [==============================] - 26s 2s/step - loss: 0.1168 - accuracy: 0.9675 - val_loss: 0.5795 - val_accuracy: 0.8750\n",
      "Epoch 36/100\n",
      "15/15 [==============================] - 28s 2s/step - loss: 0.0795 - accuracy: 0.9719 - val_loss: 0.5151 - val_accuracy: 0.9079\n",
      "Epoch 37/100\n",
      "15/15 [==============================] - 32s 2s/step - loss: 0.0813 - accuracy: 0.9762 - val_loss: 0.9531 - val_accuracy: 0.8750\n",
      "Epoch 38/100\n",
      "15/15 [==============================] - 28s 2s/step - loss: 0.1009 - accuracy: 0.9654 - val_loss: 0.5451 - val_accuracy: 0.8947\n",
      "Epoch 39/100\n",
      "15/15 [==============================] - 26s 2s/step - loss: 0.1225 - accuracy: 0.9589 - val_loss: 0.4743 - val_accuracy: 0.9145\n",
      "Epoch 40/100\n",
      "15/15 [==============================] - 26s 2s/step - loss: 0.1067 - accuracy: 0.9740 - val_loss: 0.5036 - val_accuracy: 0.8684\n",
      "Epoch 41/100\n",
      "15/15 [==============================] - 30s 2s/step - loss: 0.0850 - accuracy: 0.9784 - val_loss: 0.5063 - val_accuracy: 0.8816\n",
      "Epoch 42/100\n",
      "15/15 [==============================] - 26s 2s/step - loss: 0.0745 - accuracy: 0.9762 - val_loss: 0.3263 - val_accuracy: 0.9079\n",
      "Epoch 43/100\n",
      "15/15 [==============================] - 31s 2s/step - loss: 0.0927 - accuracy: 0.9784 - val_loss: 0.6428 - val_accuracy: 0.8750\n",
      "Epoch 44/100\n",
      "15/15 [==============================] - 31s 2s/step - loss: 0.0580 - accuracy: 0.9784 - val_loss: 0.5596 - val_accuracy: 0.8750\n",
      "Epoch 45/100\n",
      "15/15 [==============================] - 30s 2s/step - loss: 0.0588 - accuracy: 0.9719 - val_loss: 0.7257 - val_accuracy: 0.8684\n",
      "Epoch 46/100\n",
      "15/15 [==============================] - 30s 2s/step - loss: 0.1029 - accuracy: 0.9740 - val_loss: 0.6161 - val_accuracy: 0.8618\n",
      "Epoch 47/100\n",
      "15/15 [==============================] - 30s 2s/step - loss: 0.0571 - accuracy: 0.9827 - val_loss: 0.6018 - val_accuracy: 0.8816\n",
      "Epoch 48/100\n",
      "15/15 [==============================] - 30s 2s/step - loss: 0.0532 - accuracy: 0.9805 - val_loss: 0.5037 - val_accuracy: 0.8816\n",
      "Epoch 49/100\n",
      "15/15 [==============================] - 30s 2s/step - loss: 0.0505 - accuracy: 0.9870 - val_loss: 0.7130 - val_accuracy: 0.8882\n",
      "Epoch 50/100\n",
      "15/15 [==============================] - 30s 2s/step - loss: 0.0881 - accuracy: 0.9654 - val_loss: 0.5653 - val_accuracy: 0.8947\n",
      "Epoch 51/100\n",
      "15/15 [==============================] - 31s 2s/step - loss: 0.0970 - accuracy: 0.9762 - val_loss: 0.5029 - val_accuracy: 0.8816\n",
      "Epoch 52/100\n",
      "15/15 [==============================] - 26s 2s/step - loss: 0.0589 - accuracy: 0.9740 - val_loss: 0.5196 - val_accuracy: 0.9276\n",
      "Epoch 53/100\n",
      "15/15 [==============================] - 26s 2s/step - loss: 0.0485 - accuracy: 0.9848 - val_loss: 0.7833 - val_accuracy: 0.8947\n",
      "Epoch 54/100\n",
      "15/15 [==============================] - 26s 2s/step - loss: 0.0444 - accuracy: 0.9848 - val_loss: 0.5810 - val_accuracy: 0.8882\n",
      "Epoch 55/100\n",
      "15/15 [==============================] - 26s 2s/step - loss: 0.0115 - accuracy: 0.9978 - val_loss: 0.4514 - val_accuracy: 0.9013\n",
      "Epoch 56/100\n",
      "15/15 [==============================] - 26s 2s/step - loss: 0.0363 - accuracy: 0.9913 - val_loss: 0.5628 - val_accuracy: 0.9079\n",
      "Epoch 57/100\n",
      "15/15 [==============================] - 26s 2s/step - loss: 0.0580 - accuracy: 0.9784 - val_loss: 0.3579 - val_accuracy: 0.9013\n",
      "Epoch 58/100\n",
      "15/15 [==============================] - 26s 2s/step - loss: 0.0397 - accuracy: 0.9892 - val_loss: 0.7181 - val_accuracy: 0.8947\n",
      "Epoch 59/100\n",
      "15/15 [==============================] - 26s 2s/step - loss: 0.0446 - accuracy: 0.9805 - val_loss: 0.5463 - val_accuracy: 0.8947\n",
      "Epoch 60/100\n",
      "15/15 [==============================] - 26s 2s/step - loss: 0.0518 - accuracy: 0.9827 - val_loss: 0.5760 - val_accuracy: 0.9079\n",
      "Epoch 61/100\n",
      "15/15 [==============================] - 26s 2s/step - loss: 0.0493 - accuracy: 0.9913 - val_loss: 0.9381 - val_accuracy: 0.8816\n",
      "Epoch 62/100\n",
      "15/15 [==============================] - 26s 2s/step - loss: 0.0637 - accuracy: 0.9805 - val_loss: 0.5906 - val_accuracy: 0.8750\n",
      "Epoch 63/100\n",
      "15/15 [==============================] - 26s 2s/step - loss: 0.1048 - accuracy: 0.9632 - val_loss: 0.5530 - val_accuracy: 0.8882\n",
      "Epoch 64/100\n",
      "15/15 [==============================] - 26s 2s/step - loss: 0.1006 - accuracy: 0.9719 - val_loss: 0.5114 - val_accuracy: 0.8816\n",
      "Epoch 65/100\n",
      "15/15 [==============================] - 26s 2s/step - loss: 0.0756 - accuracy: 0.9762 - val_loss: 0.5939 - val_accuracy: 0.8750\n",
      "Epoch 66/100\n",
      "15/15 [==============================] - 26s 2s/step - loss: 0.0341 - accuracy: 0.9892 - val_loss: 1.6948 - val_accuracy: 0.8618\n",
      "Epoch 67/100\n",
      "15/15 [==============================] - 26s 2s/step - loss: 0.0730 - accuracy: 0.9719 - val_loss: 0.4834 - val_accuracy: 0.8947\n",
      "Epoch 68/100\n",
      "15/15 [==============================] - 26s 2s/step - loss: 0.0347 - accuracy: 0.9848 - val_loss: 0.6310 - val_accuracy: 0.9211\n",
      "Epoch 69/100\n",
      "15/15 [==============================] - 26s 2s/step - loss: 0.0616 - accuracy: 0.9827 - val_loss: 0.6739 - val_accuracy: 0.9013\n",
      "Epoch 70/100\n",
      "15/15 [==============================] - 26s 2s/step - loss: 0.0663 - accuracy: 0.9848 - val_loss: 0.3962 - val_accuracy: 0.9211\n",
      "Epoch 71/100\n",
      "15/15 [==============================] - 26s 2s/step - loss: 0.0350 - accuracy: 0.9827 - val_loss: 0.7524 - val_accuracy: 0.8947\n",
      "Epoch 72/100\n",
      "15/15 [==============================] - 26s 2s/step - loss: 0.0469 - accuracy: 0.9848 - val_loss: 0.6611 - val_accuracy: 0.8618\n",
      "Epoch 73/100\n",
      "15/15 [==============================] - 26s 2s/step - loss: 0.0210 - accuracy: 0.9935 - val_loss: 0.8399 - val_accuracy: 0.8750\n",
      "Epoch 74/100\n",
      "15/15 [==============================] - 26s 2s/step - loss: 0.0818 - accuracy: 0.9784 - val_loss: 1.1178 - val_accuracy: 0.8882\n",
      "Epoch 75/100\n",
      "15/15 [==============================] - 26s 2s/step - loss: 0.1290 - accuracy: 0.9805 - val_loss: 0.4137 - val_accuracy: 0.8947\n",
      "Epoch 76/100\n",
      "15/15 [==============================] - 25s 2s/step - loss: 0.0569 - accuracy: 0.9848 - val_loss: 0.3910 - val_accuracy: 0.9276\n",
      "Epoch 77/100\n",
      "15/15 [==============================] - 25s 2s/step - loss: 0.0330 - accuracy: 0.9935 - val_loss: 0.6028 - val_accuracy: 0.9145\n",
      "Epoch 78/100\n",
      "15/15 [==============================] - 25s 2s/step - loss: 0.0296 - accuracy: 0.9848 - val_loss: 0.5992 - val_accuracy: 0.9013\n",
      "Epoch 79/100\n",
      "15/15 [==============================] - 25s 2s/step - loss: 0.0280 - accuracy: 0.9978 - val_loss: 0.5393 - val_accuracy: 0.9145\n",
      "Epoch 80/100\n",
      "15/15 [==============================] - 26s 2s/step - loss: 0.0303 - accuracy: 0.9870 - val_loss: 0.7922 - val_accuracy: 0.8947\n",
      "Epoch 81/100\n",
      "15/15 [==============================] - 25s 2s/step - loss: 0.0469 - accuracy: 0.9827 - val_loss: 0.8961 - val_accuracy: 0.9079\n",
      "Epoch 82/100\n",
      "15/15 [==============================] - 26s 2s/step - loss: 0.0569 - accuracy: 0.9740 - val_loss: 0.6135 - val_accuracy: 0.9079\n",
      "Epoch 83/100\n",
      "15/15 [==============================] - 25s 2s/step - loss: 0.0548 - accuracy: 0.9870 - val_loss: 0.5922 - val_accuracy: 0.8947\n",
      "Epoch 84/100\n",
      "15/15 [==============================] - 25s 2s/step - loss: 0.0209 - accuracy: 0.9935 - val_loss: 0.6702 - val_accuracy: 0.9211\n",
      "Epoch 85/100\n",
      "15/15 [==============================] - 25s 2s/step - loss: 0.0594 - accuracy: 0.9957 - val_loss: 0.7769 - val_accuracy: 0.8947\n",
      "Epoch 86/100\n",
      "15/15 [==============================] - 25s 2s/step - loss: 0.0375 - accuracy: 0.9892 - val_loss: 0.6369 - val_accuracy: 0.8947\n",
      "Epoch 87/100\n",
      "15/15 [==============================] - 25s 2s/step - loss: 0.0201 - accuracy: 0.9935 - val_loss: 0.6371 - val_accuracy: 0.9079\n",
      "Epoch 88/100\n",
      "15/15 [==============================] - 25s 2s/step - loss: 0.0781 - accuracy: 0.9892 - val_loss: 0.6313 - val_accuracy: 0.8947\n",
      "Epoch 89/100\n",
      "15/15 [==============================] - 25s 2s/step - loss: 0.0332 - accuracy: 0.9892 - val_loss: 0.5467 - val_accuracy: 0.9079\n",
      "Epoch 90/100\n",
      "15/15 [==============================] - 25s 2s/step - loss: 0.0279 - accuracy: 0.9957 - val_loss: 0.8395 - val_accuracy: 0.8750\n",
      "Epoch 91/100\n",
      "15/15 [==============================] - 25s 2s/step - loss: 0.0333 - accuracy: 0.9892 - val_loss: 0.7128 - val_accuracy: 0.8816\n",
      "Epoch 92/100\n",
      "15/15 [==============================] - 25s 2s/step - loss: 0.0174 - accuracy: 0.9935 - val_loss: 0.6674 - val_accuracy: 0.9145\n",
      "Epoch 93/100\n",
      "15/15 [==============================] - 25s 2s/step - loss: 0.0119 - accuracy: 0.9957 - val_loss: 0.9120 - val_accuracy: 0.8947\n",
      "Epoch 94/100\n",
      "15/15 [==============================] - 25s 2s/step - loss: 0.0301 - accuracy: 0.9870 - val_loss: 1.1672 - val_accuracy: 0.8750\n",
      "Epoch 95/100\n",
      "15/15 [==============================] - 26s 2s/step - loss: 0.0160 - accuracy: 0.9957 - val_loss: 0.7855 - val_accuracy: 0.9013\n",
      "Epoch 96/100\n",
      "15/15 [==============================] - 25s 2s/step - loss: 0.0216 - accuracy: 0.9935 - val_loss: 0.8721 - val_accuracy: 0.9013\n",
      "Epoch 97/100\n",
      "15/15 [==============================] - 25s 2s/step - loss: 0.0621 - accuracy: 0.9762 - val_loss: 0.7287 - val_accuracy: 0.9145\n",
      "Epoch 98/100\n",
      "15/15 [==============================] - 25s 2s/step - loss: 0.0480 - accuracy: 0.9805 - val_loss: 0.7798 - val_accuracy: 0.8816\n",
      "Epoch 99/100\n",
      "15/15 [==============================] - 25s 2s/step - loss: 0.0392 - accuracy: 0.9892 - val_loss: 0.8343 - val_accuracy: 0.8882\n",
      "Epoch 100/100\n",
      "15/15 [==============================] - 25s 2s/step - loss: 0.0300 - accuracy: 0.9913 - val_loss: 0.7890 - val_accuracy: 0.8882\n",
      "Treinamento concluído!\n"
     ]
    }
   ],
   "source": [
    "# treinamento\n",
    "model.fit(\n",
    "    train_generator,\n",
    "    epochs = num_epochs,\n",
    "    validation_data = validation_generator\n",
    ")\n",
    "\n",
    "print('Treinamento concluído!')"
   ]
  },
  {
   "cell_type": "code",
   "execution_count": 12,
   "metadata": {
    "execution": {
     "iopub.execute_input": "2023-11-23T22:48:59.036918Z",
     "iopub.status.busy": "2023-11-23T22:48:59.036578Z",
     "iopub.status.idle": "2023-11-23T22:48:59.547794Z",
     "shell.execute_reply": "2023-11-23T22:48:59.547000Z",
     "shell.execute_reply.started": "2023-11-23T22:48:59.036887Z"
    },
    "tags": []
   },
   "outputs": [],
   "source": [
    "# salvar o modelo\n",
    "model.save('./models/rcastilhos_is-noel.keras')"
   ]
  },
  {
   "cell_type": "code",
   "execution_count": null,
   "metadata": {},
   "outputs": [],
   "source": []
  }
 ],
 "metadata": {
  "kernelspec": {
   "display_name": "Python 3 (ipykernel)",
   "language": "python",
   "name": "python3"
  },
  "language_info": {
   "codemirror_mode": {
    "name": "ipython",
    "version": 3
   },
   "file_extension": ".py",
   "mimetype": "text/x-python",
   "name": "python",
   "nbconvert_exporter": "python",
   "pygments_lexer": "ipython3",
   "version": "3.10.6"
  },
  "widgets": {
   "application/vnd.jupyter.widget-state+json": {
    "state": {},
    "version_major": 2,
    "version_minor": 0
   }
  }
 },
 "nbformat": 4,
 "nbformat_minor": 4
}
