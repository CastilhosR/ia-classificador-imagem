{
 "cells": [
  {
   "cell_type": "code",
   "execution_count": 214,
   "metadata": {},
   "outputs": [
    {
     "name": "stdout",
     "output_type": "stream",
     "text": [
      "Requirement already satisfied: tensorflow in c:\\users\\pablo\\anaconda3\\lib\\site-packages (2.14.0)\n",
      "Requirement already satisfied: tensorflow-intel==2.14.0 in c:\\users\\pablo\\anaconda3\\lib\\site-packages (from tensorflow) (2.14.0)\n",
      "Requirement already satisfied: absl-py>=1.0.0 in c:\\users\\pablo\\anaconda3\\lib\\site-packages (from tensorflow-intel==2.14.0->tensorflow) (2.0.0)\n",
      "Requirement already satisfied: astunparse>=1.6.0 in c:\\users\\pablo\\anaconda3\\lib\\site-packages (from tensorflow-intel==2.14.0->tensorflow) (1.6.3)\n",
      "Requirement already satisfied: flatbuffers>=23.5.26 in c:\\users\\pablo\\anaconda3\\lib\\site-packages (from tensorflow-intel==2.14.0->tensorflow) (23.5.26)\n",
      "Requirement already satisfied: gast!=0.5.0,!=0.5.1,!=0.5.2,>=0.2.1 in c:\\users\\pablo\\anaconda3\\lib\\site-packages (from tensorflow-intel==2.14.0->tensorflow) (0.5.4)\n",
      "Requirement already satisfied: google-pasta>=0.1.1 in c:\\users\\pablo\\anaconda3\\lib\\site-packages (from tensorflow-intel==2.14.0->tensorflow) (0.2.0)\n",
      "Requirement already satisfied: h5py>=2.9.0 in c:\\users\\pablo\\anaconda3\\lib\\site-packages (from tensorflow-intel==2.14.0->tensorflow) (3.9.0)\n",
      "Requirement already satisfied: libclang>=13.0.0 in c:\\users\\pablo\\anaconda3\\lib\\site-packages (from tensorflow-intel==2.14.0->tensorflow) (16.0.6)\n",
      "Requirement already satisfied: ml-dtypes==0.2.0 in c:\\users\\pablo\\anaconda3\\lib\\site-packages (from tensorflow-intel==2.14.0->tensorflow) (0.2.0)\n",
      "Requirement already satisfied: numpy>=1.23.5 in c:\\users\\pablo\\anaconda3\\lib\\site-packages (from tensorflow-intel==2.14.0->tensorflow) (1.24.3)\n",
      "Requirement already satisfied: opt-einsum>=2.3.2 in c:\\users\\pablo\\anaconda3\\lib\\site-packages (from tensorflow-intel==2.14.0->tensorflow) (3.3.0)\n",
      "Requirement already satisfied: packaging in c:\\users\\pablo\\appdata\\roaming\\python\\python311\\site-packages (from tensorflow-intel==2.14.0->tensorflow) (23.1)\n",
      "Requirement already satisfied: protobuf!=4.21.0,!=4.21.1,!=4.21.2,!=4.21.3,!=4.21.4,!=4.21.5,<5.0.0dev,>=3.20.3 in c:\\users\\pablo\\anaconda3\\lib\\site-packages (from tensorflow-intel==2.14.0->tensorflow) (4.23.4)\n",
      "Requirement already satisfied: setuptools in c:\\users\\pablo\\anaconda3\\lib\\site-packages (from tensorflow-intel==2.14.0->tensorflow) (68.0.0)\n",
      "Requirement already satisfied: six>=1.12.0 in c:\\users\\pablo\\appdata\\roaming\\python\\python311\\site-packages (from tensorflow-intel==2.14.0->tensorflow) (1.16.0)\n",
      "Requirement already satisfied: termcolor>=1.1.0 in c:\\users\\pablo\\anaconda3\\lib\\site-packages (from tensorflow-intel==2.14.0->tensorflow) (2.3.0)\n",
      "Requirement already satisfied: typing-extensions>=3.6.6 in c:\\users\\pablo\\anaconda3\\lib\\site-packages (from tensorflow-intel==2.14.0->tensorflow) (4.8.0)\n",
      "Requirement already satisfied: wrapt<1.15,>=1.11.0 in c:\\users\\pablo\\anaconda3\\lib\\site-packages (from tensorflow-intel==2.14.0->tensorflow) (1.14.1)\n",
      "Requirement already satisfied: tensorflow-io-gcs-filesystem>=0.23.1 in c:\\users\\pablo\\anaconda3\\lib\\site-packages (from tensorflow-intel==2.14.0->tensorflow) (0.31.0)\n",
      "Requirement already satisfied: grpcio<2.0,>=1.24.3 in c:\\users\\pablo\\anaconda3\\lib\\site-packages (from tensorflow-intel==2.14.0->tensorflow) (1.59.0)\n",
      "Requirement already satisfied: tensorboard<2.15,>=2.14 in c:\\users\\pablo\\anaconda3\\lib\\site-packages (from tensorflow-intel==2.14.0->tensorflow) (2.14.1)\n",
      "Requirement already satisfied: tensorflow-estimator<2.15,>=2.14.0 in c:\\users\\pablo\\anaconda3\\lib\\site-packages (from tensorflow-intel==2.14.0->tensorflow) (2.14.0)\n",
      "Requirement already satisfied: keras<2.15,>=2.14.0 in c:\\users\\pablo\\anaconda3\\lib\\site-packages (from tensorflow-intel==2.14.0->tensorflow) (2.14.0)\n",
      "Requirement already satisfied: wheel<1.0,>=0.23.0 in c:\\users\\pablo\\anaconda3\\lib\\site-packages (from astunparse>=1.6.0->tensorflow-intel==2.14.0->tensorflow) (0.38.4)\n",
      "Requirement already satisfied: google-auth<3,>=1.6.3 in c:\\users\\pablo\\anaconda3\\lib\\site-packages (from tensorboard<2.15,>=2.14->tensorflow-intel==2.14.0->tensorflow) (2.23.3)\n",
      "Requirement already satisfied: google-auth-oauthlib<1.1,>=0.5 in c:\\users\\pablo\\anaconda3\\lib\\site-packages (from tensorboard<2.15,>=2.14->tensorflow-intel==2.14.0->tensorflow) (1.0.0)\n",
      "Requirement already satisfied: markdown>=2.6.8 in c:\\users\\pablo\\anaconda3\\lib\\site-packages (from tensorboard<2.15,>=2.14->tensorflow-intel==2.14.0->tensorflow) (3.4.1)\n",
      "Requirement already satisfied: requests<3,>=2.21.0 in c:\\users\\pablo\\anaconda3\\lib\\site-packages (from tensorboard<2.15,>=2.14->tensorflow-intel==2.14.0->tensorflow) (2.31.0)\n",
      "Requirement already satisfied: tensorboard-data-server<0.8.0,>=0.7.0 in c:\\users\\pablo\\anaconda3\\lib\\site-packages (from tensorboard<2.15,>=2.14->tensorflow-intel==2.14.0->tensorflow) (0.7.2)\n",
      "Requirement already satisfied: werkzeug>=1.0.1 in c:\\users\\pablo\\anaconda3\\lib\\site-packages (from tensorboard<2.15,>=2.14->tensorflow-intel==2.14.0->tensorflow) (2.3.6)\n",
      "Requirement already satisfied: cachetools<6.0,>=2.0.0 in c:\\users\\pablo\\anaconda3\\lib\\site-packages (from google-auth<3,>=1.6.3->tensorboard<2.15,>=2.14->tensorflow-intel==2.14.0->tensorflow) (5.3.1)\n",
      "Requirement already satisfied: pyasn1-modules>=0.2.1 in c:\\users\\pablo\\anaconda3\\lib\\site-packages (from google-auth<3,>=1.6.3->tensorboard<2.15,>=2.14->tensorflow-intel==2.14.0->tensorflow) (0.2.8)\n",
      "Requirement already satisfied: rsa<5,>=3.1.4 in c:\\users\\pablo\\anaconda3\\lib\\site-packages (from google-auth<3,>=1.6.3->tensorboard<2.15,>=2.14->tensorflow-intel==2.14.0->tensorflow) (4.9)\n",
      "Requirement already satisfied: requests-oauthlib>=0.7.0 in c:\\users\\pablo\\anaconda3\\lib\\site-packages (from google-auth-oauthlib<1.1,>=0.5->tensorboard<2.15,>=2.14->tensorflow-intel==2.14.0->tensorflow) (1.3.1)\n",
      "Requirement already satisfied: charset-normalizer<4,>=2 in c:\\users\\pablo\\anaconda3\\lib\\site-packages (from requests<3,>=2.21.0->tensorboard<2.15,>=2.14->tensorflow-intel==2.14.0->tensorflow) (2.0.4)\n",
      "Requirement already satisfied: idna<4,>=2.5 in c:\\users\\pablo\\anaconda3\\lib\\site-packages (from requests<3,>=2.21.0->tensorboard<2.15,>=2.14->tensorflow-intel==2.14.0->tensorflow) (3.4)\n",
      "Requirement already satisfied: urllib3<3,>=1.21.1 in c:\\users\\pablo\\anaconda3\\lib\\site-packages (from requests<3,>=2.21.0->tensorboard<2.15,>=2.14->tensorflow-intel==2.14.0->tensorflow) (1.26.16)\n",
      "Requirement already satisfied: certifi>=2017.4.17 in c:\\users\\pablo\\anaconda3\\lib\\site-packages (from requests<3,>=2.21.0->tensorboard<2.15,>=2.14->tensorflow-intel==2.14.0->tensorflow) (2023.7.22)\n",
      "Requirement already satisfied: MarkupSafe>=2.1.1 in c:\\users\\pablo\\anaconda3\\lib\\site-packages (from werkzeug>=1.0.1->tensorboard<2.15,>=2.14->tensorflow-intel==2.14.0->tensorflow) (2.1.1)\n",
      "Requirement already satisfied: pyasn1<0.5.0,>=0.4.6 in c:\\users\\pablo\\anaconda3\\lib\\site-packages (from pyasn1-modules>=0.2.1->google-auth<3,>=1.6.3->tensorboard<2.15,>=2.14->tensorflow-intel==2.14.0->tensorflow) (0.4.8)\n",
      "Requirement already satisfied: oauthlib>=3.0.0 in c:\\users\\pablo\\anaconda3\\lib\\site-packages (from requests-oauthlib>=0.7.0->google-auth-oauthlib<1.1,>=0.5->tensorboard<2.15,>=2.14->tensorflow-intel==2.14.0->tensorflow) (3.2.2)\n"
     ]
    }
   ],
   "source": [
    "!pip install tensorflow"
   ]
  },
  {
   "cell_type": "code",
   "execution_count": 215,
   "metadata": {},
   "outputs": [],
   "source": [
    "import tensorflow as tf\n",
    "from tensorflow.keras.preprocessing.image import ImageDataGenerator\n",
    "from tensorflow.keras.models import Sequential\n",
    "from tensorflow.keras.layers import Conv2D, MaxPooling2D, Flatten, Dense, Dropout"
   ]
  },
  {
   "cell_type": "code",
   "execution_count": 216,
   "metadata": {},
   "outputs": [],
   "source": [
    "# Caminhos para as pastas de dados\n",
    "train_data_dir = './data'\n",
    "batch_size = 32 # ***\n",
    "image_size = (150, 150)\n",
    "num_epochs = 50\n",
    "num_classes = 2"
   ]
  },
  {
   "cell_type": "code",
   "execution_count": 217,
   "metadata": {},
   "outputs": [],
   "source": [
    "# Crie geradores de dados de treinamento\n",
    "train_datagen = ImageDataGenerator(\n",
    "    rescale=1.0 / 255, # Normalização das imagens\n",
    "    validation_split=0.25,  # Define a divisão de validação\n",
    "    shear_range=0.2,\n",
    "    zoom_range=0.2,\n",
    "    horizontal_flip=True)    "
   ]
  },
  {
   "cell_type": "code",
   "execution_count": 218,
   "metadata": {},
   "outputs": [
    {
     "name": "stdout",
     "output_type": "stream",
     "text": [
      "Found 21 images belonging to 2 classes.\n"
     ]
    }
   ],
   "source": [
    "train_generator = train_datagen.flow_from_directory(\n",
    "    train_data_dir,\n",
    "    target_size=image_size,\n",
    "    batch_size=batch_size,\n",
    "    class_mode='binary',\n",
    "    subset='training'\n",
    ")"
   ]
  },
  {
   "cell_type": "code",
   "execution_count": 219,
   "metadata": {},
   "outputs": [
    {
     "name": "stdout",
     "output_type": "stream",
     "text": [
      "Found 6 images belonging to 2 classes.\n"
     ]
    }
   ],
   "source": [
    "validation_generator = train_datagen.flow_from_directory(\n",
    "    train_data_dir,\n",
    "    target_size=image_size,\n",
    "    batch_size=batch_size,\n",
    "    class_mode='binary',\n",
    "    subset='validation'\n",
    ")"
   ]
  },
  {
   "cell_type": "code",
   "execution_count": 220,
   "metadata": {},
   "outputs": [],
   "source": [
    "model = Sequential()\n",
    "model.add(Conv2D(32, (3, 3), input_shape=(image_size[0], image_size[1], 3), activation='relu'))\n",
    "model.add(MaxPooling2D(pool_size=(2, 2)))\n",
    "model.add(Conv2D(64, (3, 3), activation='relu'))\n",
    "model.add(MaxPooling2D(pool_size=(2, 2)))\n",
    "model.add(Flatten())\n",
    "model.add(Dense(64, activation='relu'))\n",
    "model.add(Dropout(0.5))\n",
    "model.add(Dense(1, activation='sigmoid'))  # Camada de saída com 1 unidade para classificação binária"
   ]
  },
  {
   "cell_type": "code",
   "execution_count": 221,
   "metadata": {},
   "outputs": [],
   "source": [
    "# Compile o modelo\n",
    "model.compile(loss='binary_crossentropy',\n",
    "              optimizer='adam',\n",
    "              metrics=['accuracy'])"
   ]
  },
  {
   "cell_type": "code",
   "execution_count": 222,
   "metadata": {},
   "outputs": [
    {
     "name": "stdout",
     "output_type": "stream",
     "text": [
      "Epoch 1/50\n",
      "1/1 [==============================] - 1s 958ms/step - loss: 0.6725 - accuracy: 0.5714 - val_loss: 1.7303 - val_accuracy: 0.5000\n",
      "Epoch 2/50\n",
      "1/1 [==============================] - 0s 270ms/step - loss: 2.1646 - accuracy: 0.5238 - val_loss: 5.0638 - val_accuracy: 0.5000\n",
      "Epoch 3/50\n",
      "1/1 [==============================] - 0s 267ms/step - loss: 4.6109 - accuracy: 0.5238 - val_loss: 3.9022 - val_accuracy: 0.5000\n",
      "Epoch 4/50\n",
      "1/1 [==============================] - 0s 265ms/step - loss: 3.8240 - accuracy: 0.5238 - val_loss: 1.5235 - val_accuracy: 0.5000\n",
      "Epoch 5/50\n",
      "1/1 [==============================] - 0s 265ms/step - loss: 1.6076 - accuracy: 0.5714 - val_loss: 0.9237 - val_accuracy: 0.5000\n",
      "Epoch 6/50\n",
      "1/1 [==============================] - 0s 263ms/step - loss: 1.1625 - accuracy: 0.6667 - val_loss: 1.1219 - val_accuracy: 0.5000\n",
      "Epoch 7/50\n",
      "1/1 [==============================] - 0s 263ms/step - loss: 1.2260 - accuracy: 0.4762 - val_loss: 0.8798 - val_accuracy: 0.5000\n",
      "Epoch 8/50\n",
      "1/1 [==============================] - 0s 265ms/step - loss: 0.9910 - accuracy: 0.4762 - val_loss: 0.7323 - val_accuracy: 0.5000\n",
      "Epoch 9/50\n",
      "1/1 [==============================] - 0s 264ms/step - loss: 0.8838 - accuracy: 0.4286 - val_loss: 0.6871 - val_accuracy: 0.5000\n",
      "Epoch 10/50\n",
      "1/1 [==============================] - 0s 265ms/step - loss: 0.6869 - accuracy: 0.4762 - val_loss: 0.6684 - val_accuracy: 0.5000\n",
      "Epoch 11/50\n",
      "1/1 [==============================] - 0s 269ms/step - loss: 0.6530 - accuracy: 0.4286 - val_loss: 0.6553 - val_accuracy: 0.5000\n",
      "Epoch 12/50\n",
      "1/1 [==============================] - 0s 272ms/step - loss: 0.6364 - accuracy: 0.4762 - val_loss: 0.6408 - val_accuracy: 0.5000\n",
      "Epoch 13/50\n",
      "1/1 [==============================] - 0s 269ms/step - loss: 0.6014 - accuracy: 0.5714 - val_loss: 0.6400 - val_accuracy: 0.6667\n",
      "Epoch 14/50\n",
      "1/1 [==============================] - 0s 263ms/step - loss: 0.5779 - accuracy: 0.6190 - val_loss: 0.6383 - val_accuracy: 0.6667\n",
      "Epoch 15/50\n",
      "1/1 [==============================] - 0s 268ms/step - loss: 0.5730 - accuracy: 0.7619 - val_loss: 0.6626 - val_accuracy: 0.6667\n",
      "Epoch 16/50\n",
      "1/1 [==============================] - 0s 266ms/step - loss: 0.5331 - accuracy: 0.8095 - val_loss: 0.5964 - val_accuracy: 0.5000\n",
      "Epoch 17/50\n",
      "1/1 [==============================] - 0s 265ms/step - loss: 0.4528 - accuracy: 0.7619 - val_loss: 0.5270 - val_accuracy: 0.8333\n",
      "Epoch 18/50\n",
      "1/1 [==============================] - 0s 268ms/step - loss: 0.4978 - accuracy: 0.8095 - val_loss: 0.4686 - val_accuracy: 0.6667\n",
      "Epoch 19/50\n",
      "1/1 [==============================] - 0s 262ms/step - loss: 0.4742 - accuracy: 0.8095 - val_loss: 0.6219 - val_accuracy: 0.5000\n",
      "Epoch 20/50\n",
      "1/1 [==============================] - 0s 266ms/step - loss: 0.4090 - accuracy: 0.7619 - val_loss: 0.4907 - val_accuracy: 0.6667\n",
      "Epoch 21/50\n",
      "1/1 [==============================] - 0s 268ms/step - loss: 0.3770 - accuracy: 0.9048 - val_loss: 0.4205 - val_accuracy: 0.8333\n",
      "Epoch 22/50\n",
      "1/1 [==============================] - 0s 264ms/step - loss: 0.3876 - accuracy: 0.8095 - val_loss: 0.3997 - val_accuracy: 1.0000\n",
      "Epoch 23/50\n",
      "1/1 [==============================] - 0s 266ms/step - loss: 0.2596 - accuracy: 1.0000 - val_loss: 0.3390 - val_accuracy: 0.8333\n",
      "Epoch 24/50\n",
      "1/1 [==============================] - 0s 269ms/step - loss: 0.2726 - accuracy: 0.8571 - val_loss: 0.3651 - val_accuracy: 0.8333\n",
      "Epoch 25/50\n",
      "1/1 [==============================] - 0s 270ms/step - loss: 0.3708 - accuracy: 0.8095 - val_loss: 0.6020 - val_accuracy: 0.5000\n",
      "Epoch 26/50\n",
      "1/1 [==============================] - 0s 275ms/step - loss: 0.4081 - accuracy: 0.7619 - val_loss: 0.2436 - val_accuracy: 1.0000\n",
      "Epoch 27/50\n",
      "1/1 [==============================] - 0s 269ms/step - loss: 0.2826 - accuracy: 0.9048 - val_loss: 0.3503 - val_accuracy: 1.0000\n",
      "Epoch 28/50\n",
      "1/1 [==============================] - 0s 269ms/step - loss: 0.1896 - accuracy: 0.9524 - val_loss: 0.2546 - val_accuracy: 0.8333\n",
      "Epoch 29/50\n",
      "1/1 [==============================] - 0s 264ms/step - loss: 0.2001 - accuracy: 0.9048 - val_loss: 0.5438 - val_accuracy: 0.6667\n",
      "Epoch 30/50\n",
      "1/1 [==============================] - 0s 274ms/step - loss: 0.2807 - accuracy: 0.8571 - val_loss: 0.4663 - val_accuracy: 0.6667\n",
      "Epoch 31/50\n",
      "1/1 [==============================] - 0s 268ms/step - loss: 0.2089 - accuracy: 1.0000 - val_loss: 0.2272 - val_accuracy: 0.8333\n",
      "Epoch 32/50\n",
      "1/1 [==============================] - 0s 268ms/step - loss: 0.1883 - accuracy: 0.9524 - val_loss: 0.2434 - val_accuracy: 0.8333\n",
      "Epoch 33/50\n",
      "1/1 [==============================] - 0s 280ms/step - loss: 0.1919 - accuracy: 0.9048 - val_loss: 0.3622 - val_accuracy: 0.8333\n",
      "Epoch 34/50\n",
      "1/1 [==============================] - 0s 268ms/step - loss: 0.1516 - accuracy: 0.9048 - val_loss: 0.3565 - val_accuracy: 0.6667\n",
      "Epoch 35/50\n",
      "1/1 [==============================] - 0s 270ms/step - loss: 0.1724 - accuracy: 1.0000 - val_loss: 0.2206 - val_accuracy: 0.8333\n",
      "Epoch 36/50\n",
      "1/1 [==============================] - 0s 272ms/step - loss: 0.1603 - accuracy: 0.9524 - val_loss: 0.1864 - val_accuracy: 1.0000\n",
      "Epoch 37/50\n",
      "1/1 [==============================] - 0s 268ms/step - loss: 0.1277 - accuracy: 1.0000 - val_loss: 0.1334 - val_accuracy: 1.0000\n",
      "Epoch 38/50\n",
      "1/1 [==============================] - 0s 263ms/step - loss: 0.1308 - accuracy: 0.9524 - val_loss: 0.1935 - val_accuracy: 0.8333\n",
      "Epoch 39/50\n",
      "1/1 [==============================] - 0s 263ms/step - loss: 0.1326 - accuracy: 0.9048 - val_loss: 0.2340 - val_accuracy: 0.8333\n",
      "Epoch 40/50\n",
      "1/1 [==============================] - 0s 265ms/step - loss: 0.0861 - accuracy: 1.0000 - val_loss: 0.1118 - val_accuracy: 1.0000\n",
      "Epoch 41/50\n",
      "1/1 [==============================] - 0s 271ms/step - loss: 0.1229 - accuracy: 0.9524 - val_loss: 0.4509 - val_accuracy: 0.8333\n",
      "Epoch 42/50\n",
      "1/1 [==============================] - 0s 264ms/step - loss: 0.0600 - accuracy: 1.0000 - val_loss: 0.0474 - val_accuracy: 1.0000\n",
      "Epoch 43/50\n",
      "1/1 [==============================] - 0s 267ms/step - loss: 0.1382 - accuracy: 0.9524 - val_loss: 0.4416 - val_accuracy: 0.8333\n",
      "Epoch 44/50\n",
      "1/1 [==============================] - 0s 269ms/step - loss: 0.2999 - accuracy: 0.9048 - val_loss: 0.2306 - val_accuracy: 0.8333\n",
      "Epoch 45/50\n",
      "1/1 [==============================] - 0s 271ms/step - loss: 0.0584 - accuracy: 1.0000 - val_loss: 0.7494 - val_accuracy: 0.6667\n",
      "Epoch 46/50\n",
      "1/1 [==============================] - 0s 263ms/step - loss: 0.0920 - accuracy: 1.0000 - val_loss: 0.0459 - val_accuracy: 1.0000\n",
      "Epoch 47/50\n",
      "1/1 [==============================] - 0s 266ms/step - loss: 0.0539 - accuracy: 1.0000 - val_loss: 0.1126 - val_accuracy: 1.0000\n",
      "Epoch 48/50\n",
      "1/1 [==============================] - 0s 271ms/step - loss: 0.0901 - accuracy: 0.9524 - val_loss: 0.5305 - val_accuracy: 0.8333\n",
      "Epoch 49/50\n",
      "1/1 [==============================] - 0s 266ms/step - loss: 0.1232 - accuracy: 0.9524 - val_loss: 0.7012 - val_accuracy: 0.8333\n",
      "Epoch 50/50\n",
      "1/1 [==============================] - 0s 266ms/step - loss: 0.0980 - accuracy: 0.9524 - val_loss: 0.4044 - val_accuracy: 0.8333\n",
      "Modelo salvo com sucesso!\n"
     ]
    }
   ],
   "source": [
    "# Treine o modelo\n",
    "model.fit(\n",
    "    train_generator,\n",
    "    epochs=num_epochs,\n",
    "    validation_data=validation_generator)\n",
    "\n",
    "# Salve o modelo treinado\n",
    "model.save('modeloClassImagens.h5')\n",
    "\n",
    "print('Modelo salvo com sucesso!')"
   ]
  }
 ],
 "metadata": {
  "kernelspec": {
   "display_name": "base",
   "language": "python",
   "name": "python3"
  },
  "language_info": {
   "codemirror_mode": {
    "name": "ipython",
    "version": 3
   },
   "file_extension": ".py",
   "mimetype": "text/x-python",
   "name": "python",
   "nbconvert_exporter": "python",
   "pygments_lexer": "ipython3",
   "version": "3.11.4"
  }
 },
 "nbformat": 4,
 "nbformat_minor": 2
}
