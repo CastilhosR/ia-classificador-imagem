{
 "cells": [
  {
   "cell_type": "code",
   "execution_count": 178,
   "metadata": {},
   "outputs": [
    {
     "name": "stdout",
     "output_type": "stream",
     "text": [
      "Requirement already satisfied: tensorflow in c:\\users\\pablo\\anaconda3\\lib\\site-packages (2.14.0)\n",
      "Requirement already satisfied: tensorflow-intel==2.14.0 in c:\\users\\pablo\\anaconda3\\lib\\site-packages (from tensorflow) (2.14.0)\n",
      "Requirement already satisfied: absl-py>=1.0.0 in c:\\users\\pablo\\anaconda3\\lib\\site-packages (from tensorflow-intel==2.14.0->tensorflow) (2.0.0)\n",
      "Requirement already satisfied: astunparse>=1.6.0 in c:\\users\\pablo\\anaconda3\\lib\\site-packages (from tensorflow-intel==2.14.0->tensorflow) (1.6.3)\n",
      "Requirement already satisfied: flatbuffers>=23.5.26 in c:\\users\\pablo\\anaconda3\\lib\\site-packages (from tensorflow-intel==2.14.0->tensorflow) (23.5.26)\n",
      "Requirement already satisfied: gast!=0.5.0,!=0.5.1,!=0.5.2,>=0.2.1 in c:\\users\\pablo\\anaconda3\\lib\\site-packages (from tensorflow-intel==2.14.0->tensorflow) (0.5.4)\n",
      "Requirement already satisfied: google-pasta>=0.1.1 in c:\\users\\pablo\\anaconda3\\lib\\site-packages (from tensorflow-intel==2.14.0->tensorflow) (0.2.0)\n",
      "Requirement already satisfied: h5py>=2.9.0 in c:\\users\\pablo\\anaconda3\\lib\\site-packages (from tensorflow-intel==2.14.0->tensorflow) (3.9.0)\n",
      "Requirement already satisfied: libclang>=13.0.0 in c:\\users\\pablo\\anaconda3\\lib\\site-packages (from tensorflow-intel==2.14.0->tensorflow) (16.0.6)\n",
      "Requirement already satisfied: ml-dtypes==0.2.0 in c:\\users\\pablo\\anaconda3\\lib\\site-packages (from tensorflow-intel==2.14.0->tensorflow) (0.2.0)\n",
      "Requirement already satisfied: numpy>=1.23.5 in c:\\users\\pablo\\anaconda3\\lib\\site-packages (from tensorflow-intel==2.14.0->tensorflow) (1.24.3)\n",
      "Requirement already satisfied: opt-einsum>=2.3.2 in c:\\users\\pablo\\anaconda3\\lib\\site-packages (from tensorflow-intel==2.14.0->tensorflow) (3.3.0)\n",
      "Requirement already satisfied: packaging in c:\\users\\pablo\\appdata\\roaming\\python\\python311\\site-packages (from tensorflow-intel==2.14.0->tensorflow) (23.1)\n",
      "Requirement already satisfied: protobuf!=4.21.0,!=4.21.1,!=4.21.2,!=4.21.3,!=4.21.4,!=4.21.5,<5.0.0dev,>=3.20.3 in c:\\users\\pablo\\anaconda3\\lib\\site-packages (from tensorflow-intel==2.14.0->tensorflow) (4.23.4)\n",
      "Requirement already satisfied: setuptools in c:\\users\\pablo\\anaconda3\\lib\\site-packages (from tensorflow-intel==2.14.0->tensorflow) (68.0.0)\n",
      "Requirement already satisfied: six>=1.12.0 in c:\\users\\pablo\\appdata\\roaming\\python\\python311\\site-packages (from tensorflow-intel==2.14.0->tensorflow) (1.16.0)\n",
      "Requirement already satisfied: termcolor>=1.1.0 in c:\\users\\pablo\\anaconda3\\lib\\site-packages (from tensorflow-intel==2.14.0->tensorflow) (2.3.0)\n",
      "Requirement already satisfied: typing-extensions>=3.6.6 in c:\\users\\pablo\\anaconda3\\lib\\site-packages (from tensorflow-intel==2.14.0->tensorflow) (4.8.0)\n",
      "Requirement already satisfied: wrapt<1.15,>=1.11.0 in c:\\users\\pablo\\anaconda3\\lib\\site-packages (from tensorflow-intel==2.14.0->tensorflow) (1.14.1)\n",
      "Requirement already satisfied: tensorflow-io-gcs-filesystem>=0.23.1 in c:\\users\\pablo\\anaconda3\\lib\\site-packages (from tensorflow-intel==2.14.0->tensorflow) (0.31.0)\n",
      "Requirement already satisfied: grpcio<2.0,>=1.24.3 in c:\\users\\pablo\\anaconda3\\lib\\site-packages (from tensorflow-intel==2.14.0->tensorflow) (1.59.0)\n",
      "Requirement already satisfied: tensorboard<2.15,>=2.14 in c:\\users\\pablo\\anaconda3\\lib\\site-packages (from tensorflow-intel==2.14.0->tensorflow) (2.14.1)\n",
      "Requirement already satisfied: tensorflow-estimator<2.15,>=2.14.0 in c:\\users\\pablo\\anaconda3\\lib\\site-packages (from tensorflow-intel==2.14.0->tensorflow) (2.14.0)\n",
      "Requirement already satisfied: keras<2.15,>=2.14.0 in c:\\users\\pablo\\anaconda3\\lib\\site-packages (from tensorflow-intel==2.14.0->tensorflow) (2.14.0)\n",
      "Requirement already satisfied: wheel<1.0,>=0.23.0 in c:\\users\\pablo\\anaconda3\\lib\\site-packages (from astunparse>=1.6.0->tensorflow-intel==2.14.0->tensorflow) (0.38.4)\n",
      "Requirement already satisfied: google-auth<3,>=1.6.3 in c:\\users\\pablo\\anaconda3\\lib\\site-packages (from tensorboard<2.15,>=2.14->tensorflow-intel==2.14.0->tensorflow) (2.23.3)\n",
      "Requirement already satisfied: google-auth-oauthlib<1.1,>=0.5 in c:\\users\\pablo\\anaconda3\\lib\\site-packages (from tensorboard<2.15,>=2.14->tensorflow-intel==2.14.0->tensorflow) (1.0.0)\n",
      "Requirement already satisfied: markdown>=2.6.8 in c:\\users\\pablo\\anaconda3\\lib\\site-packages (from tensorboard<2.15,>=2.14->tensorflow-intel==2.14.0->tensorflow) (3.4.1)\n",
      "Requirement already satisfied: requests<3,>=2.21.0 in c:\\users\\pablo\\anaconda3\\lib\\site-packages (from tensorboard<2.15,>=2.14->tensorflow-intel==2.14.0->tensorflow) (2.31.0)\n",
      "Requirement already satisfied: tensorboard-data-server<0.8.0,>=0.7.0 in c:\\users\\pablo\\anaconda3\\lib\\site-packages (from tensorboard<2.15,>=2.14->tensorflow-intel==2.14.0->tensorflow) (0.7.2)\n",
      "Requirement already satisfied: werkzeug>=1.0.1 in c:\\users\\pablo\\anaconda3\\lib\\site-packages (from tensorboard<2.15,>=2.14->tensorflow-intel==2.14.0->tensorflow) (2.3.6)\n",
      "Requirement already satisfied: cachetools<6.0,>=2.0.0 in c:\\users\\pablo\\anaconda3\\lib\\site-packages (from google-auth<3,>=1.6.3->tensorboard<2.15,>=2.14->tensorflow-intel==2.14.0->tensorflow) (5.3.1)\n",
      "Requirement already satisfied: pyasn1-modules>=0.2.1 in c:\\users\\pablo\\anaconda3\\lib\\site-packages (from google-auth<3,>=1.6.3->tensorboard<2.15,>=2.14->tensorflow-intel==2.14.0->tensorflow) (0.2.8)\n",
      "Requirement already satisfied: rsa<5,>=3.1.4 in c:\\users\\pablo\\anaconda3\\lib\\site-packages (from google-auth<3,>=1.6.3->tensorboard<2.15,>=2.14->tensorflow-intel==2.14.0->tensorflow) (4.9)\n",
      "Requirement already satisfied: requests-oauthlib>=0.7.0 in c:\\users\\pablo\\anaconda3\\lib\\site-packages (from google-auth-oauthlib<1.1,>=0.5->tensorboard<2.15,>=2.14->tensorflow-intel==2.14.0->tensorflow) (1.3.1)\n",
      "Requirement already satisfied: charset-normalizer<4,>=2 in c:\\users\\pablo\\anaconda3\\lib\\site-packages (from requests<3,>=2.21.0->tensorboard<2.15,>=2.14->tensorflow-intel==2.14.0->tensorflow) (2.0.4)\n",
      "Requirement already satisfied: idna<4,>=2.5 in c:\\users\\pablo\\anaconda3\\lib\\site-packages (from requests<3,>=2.21.0->tensorboard<2.15,>=2.14->tensorflow-intel==2.14.0->tensorflow) (3.4)\n",
      "Requirement already satisfied: urllib3<3,>=1.21.1 in c:\\users\\pablo\\anaconda3\\lib\\site-packages (from requests<3,>=2.21.0->tensorboard<2.15,>=2.14->tensorflow-intel==2.14.0->tensorflow) (1.26.16)\n",
      "Requirement already satisfied: certifi>=2017.4.17 in c:\\users\\pablo\\anaconda3\\lib\\site-packages (from requests<3,>=2.21.0->tensorboard<2.15,>=2.14->tensorflow-intel==2.14.0->tensorflow) (2023.7.22)\n",
      "Requirement already satisfied: MarkupSafe>=2.1.1 in c:\\users\\pablo\\anaconda3\\lib\\site-packages (from werkzeug>=1.0.1->tensorboard<2.15,>=2.14->tensorflow-intel==2.14.0->tensorflow) (2.1.1)\n",
      "Requirement already satisfied: pyasn1<0.5.0,>=0.4.6 in c:\\users\\pablo\\anaconda3\\lib\\site-packages (from pyasn1-modules>=0.2.1->google-auth<3,>=1.6.3->tensorboard<2.15,>=2.14->tensorflow-intel==2.14.0->tensorflow) (0.4.8)\n",
      "Requirement already satisfied: oauthlib>=3.0.0 in c:\\users\\pablo\\anaconda3\\lib\\site-packages (from requests-oauthlib>=0.7.0->google-auth-oauthlib<1.1,>=0.5->tensorboard<2.15,>=2.14->tensorflow-intel==2.14.0->tensorflow) (3.2.2)\n"
     ]
    }
   ],
   "source": [
    "!pip install tensorflow"
   ]
  },
  {
   "cell_type": "code",
   "execution_count": 179,
   "metadata": {},
   "outputs": [],
   "source": [
    "import tensorflow as tf\n",
    "from tensorflow.keras.preprocessing.image import ImageDataGenerator\n",
    "from tensorflow.keras.models import Sequential\n",
    "from tensorflow.keras.layers import Conv2D, MaxPooling2D, Flatten, Dense, Dropout"
   ]
  },
  {
   "cell_type": "code",
   "execution_count": 180,
   "metadata": {},
   "outputs": [],
   "source": [
    "# Caminhos para as pastas de dados\n",
    "train_data_dir = './data'\n",
    "batch_size = 32\n",
    "image_size = (150, 150)\n",
    "num_epochs = 50\n",
    "num_classes = 2"
   ]
  },
  {
   "cell_type": "code",
   "execution_count": 181,
   "metadata": {},
   "outputs": [],
   "source": [
    "# Crie geradores de dados de treinamento\n",
    "train_datagen = ImageDataGenerator(\n",
    "    rescale=1.0 / 255, # Normalização das imagens\n",
    "    validation_split=0.3,  # Define a divisão de validação\n",
    "    shear_range=0.2,\n",
    "    zoom_range=0.2,\n",
    "    horizontal_flip=True)    "
   ]
  },
  {
   "cell_type": "code",
   "execution_count": 182,
   "metadata": {},
   "outputs": [
    {
     "name": "stdout",
     "output_type": "stream",
     "text": [
      "Found 20 images belonging to 2 classes.\n"
     ]
    }
   ],
   "source": [
    "train_generator = train_datagen.flow_from_directory(\n",
    "    train_data_dir,\n",
    "    target_size=image_size,\n",
    "    batch_size=batch_size,\n",
    "    class_mode='binary',\n",
    "    subset='training'\n",
    ")"
   ]
  },
  {
   "cell_type": "code",
   "execution_count": 183,
   "metadata": {},
   "outputs": [
    {
     "name": "stdout",
     "output_type": "stream",
     "text": [
      "Found 7 images belonging to 2 classes.\n"
     ]
    }
   ],
   "source": [
    "validation_generator = train_datagen.flow_from_directory(\n",
    "    train_data_dir,\n",
    "    target_size=image_size,\n",
    "    batch_size=batch_size,\n",
    "    class_mode='binary',\n",
    "    subset='validation'\n",
    ")"
   ]
  },
  {
   "cell_type": "code",
   "execution_count": 184,
   "metadata": {},
   "outputs": [],
   "source": [
    "model = Sequential()\n",
    "model.add(Conv2D(32, (3, 3), input_shape=(image_size[0], image_size[1], 3), activation='relu'))\n",
    "model.add(MaxPooling2D(pool_size=(2, 2)))\n",
    "model.add(Conv2D(64, (3, 3), activation='relu'))\n",
    "model.add(MaxPooling2D(pool_size=(2, 2)))\n",
    "model.add(Flatten())\n",
    "model.add(Dense(64, activation='relu'))\n",
    "model.add(Dropout(0.5))\n",
    "model.add(Dense(1, activation='sigmoid'))  # Camada de saída com 1 unidade para classificação binária"
   ]
  },
  {
   "cell_type": "code",
   "execution_count": 185,
   "metadata": {},
   "outputs": [],
   "source": [
    "# Compile o modelo\n",
    "model.compile(loss='binary_crossentropy',\n",
    "              optimizer='adam',\n",
    "              metrics=['accuracy'])"
   ]
  },
  {
   "cell_type": "code",
   "execution_count": 186,
   "metadata": {},
   "outputs": [
    {
     "name": "stdout",
     "output_type": "stream",
     "text": [
      "Epoch 1/50\n",
      "1/1 [==============================] - 1s 934ms/step - loss: 0.7267 - accuracy: 0.5000 - val_loss: 0.6742 - val_accuracy: 0.5714\n",
      "Epoch 2/50\n",
      "1/1 [==============================] - 0s 283ms/step - loss: 1.1079 - accuracy: 0.5000 - val_loss: 0.6865 - val_accuracy: 0.5714\n",
      "Epoch 3/50\n",
      "1/1 [==============================] - 0s 295ms/step - loss: 1.1023 - accuracy: 0.5000 - val_loss: 0.6825 - val_accuracy: 0.5714\n",
      "Epoch 4/50\n",
      "1/1 [==============================] - 0s 271ms/step - loss: 0.9620 - accuracy: 0.5000 - val_loss: 0.6598 - val_accuracy: 0.5714\n",
      "Epoch 5/50\n",
      "1/1 [==============================] - 0s 265ms/step - loss: 0.7742 - accuracy: 0.5000 - val_loss: 0.6474 - val_accuracy: 0.5714\n",
      "Epoch 6/50\n",
      "1/1 [==============================] - 0s 262ms/step - loss: 0.6638 - accuracy: 0.5000 - val_loss: 0.6443 - val_accuracy: 0.5714\n",
      "Epoch 7/50\n",
      "1/1 [==============================] - 0s 269ms/step - loss: 0.5494 - accuracy: 0.5000 - val_loss: 0.6198 - val_accuracy: 0.5714\n",
      "Epoch 8/50\n",
      "1/1 [==============================] - 0s 266ms/step - loss: 0.4739 - accuracy: 0.5000 - val_loss: 0.5945 - val_accuracy: 0.5714\n",
      "Epoch 9/50\n",
      "1/1 [==============================] - 0s 259ms/step - loss: 0.6196 - accuracy: 0.5000 - val_loss: 0.6201 - val_accuracy: 0.5714\n",
      "Epoch 10/50\n",
      "1/1 [==============================] - 0s 278ms/step - loss: 0.5590 - accuracy: 0.5000 - val_loss: 0.5878 - val_accuracy: 0.5714\n",
      "Epoch 11/50\n",
      "1/1 [==============================] - 0s 284ms/step - loss: 0.5531 - accuracy: 0.5000 - val_loss: 0.5850 - val_accuracy: 0.5714\n",
      "Epoch 12/50\n",
      "1/1 [==============================] - 0s 280ms/step - loss: 0.4868 - accuracy: 0.5000 - val_loss: 0.5176 - val_accuracy: 0.5714\n",
      "Epoch 13/50\n",
      "1/1 [==============================] - 0s 263ms/step - loss: 0.4785 - accuracy: 0.5000 - val_loss: 0.5435 - val_accuracy: 0.5714\n",
      "Epoch 14/50\n",
      "1/1 [==============================] - 0s 291ms/step - loss: 0.5190 - accuracy: 0.5000 - val_loss: 0.5367 - val_accuracy: 0.5714\n",
      "Epoch 15/50\n",
      "1/1 [==============================] - 0s 268ms/step - loss: 0.4942 - accuracy: 0.5000 - val_loss: 0.5643 - val_accuracy: 0.5714\n",
      "Epoch 16/50\n",
      "1/1 [==============================] - 0s 260ms/step - loss: 0.5073 - accuracy: 0.5000 - val_loss: 0.5443 - val_accuracy: 0.5714\n",
      "Epoch 17/50\n",
      "1/1 [==============================] - 0s 268ms/step - loss: 0.4691 - accuracy: 0.5000 - val_loss: 0.5229 - val_accuracy: 0.5714\n",
      "Epoch 18/50\n",
      "1/1 [==============================] - 0s 262ms/step - loss: 0.4704 - accuracy: 0.5000 - val_loss: 0.5413 - val_accuracy: 0.5714\n",
      "Epoch 19/50\n",
      "1/1 [==============================] - 0s 261ms/step - loss: 0.4270 - accuracy: 0.5000 - val_loss: 0.5026 - val_accuracy: 0.5714\n",
      "Epoch 20/50\n",
      "1/1 [==============================] - 0s 260ms/step - loss: 0.4109 - accuracy: 0.5000 - val_loss: 0.5578 - val_accuracy: 0.5714\n",
      "Epoch 21/50\n",
      "1/1 [==============================] - 0s 262ms/step - loss: 0.3869 - accuracy: 0.5000 - val_loss: 0.5083 - val_accuracy: 0.5714\n",
      "Epoch 22/50\n",
      "1/1 [==============================] - 0s 255ms/step - loss: 0.3638 - accuracy: 0.5000 - val_loss: 0.4794 - val_accuracy: 0.5714\n",
      "Epoch 23/50\n",
      "1/1 [==============================] - 0s 258ms/step - loss: 0.3327 - accuracy: 0.5000 - val_loss: 0.5468 - val_accuracy: 0.5714\n",
      "Epoch 24/50\n",
      "1/1 [==============================] - 0s 259ms/step - loss: 0.2970 - accuracy: 0.5000 - val_loss: 0.3470 - val_accuracy: 0.5714\n",
      "Epoch 25/50\n",
      "1/1 [==============================] - 0s 265ms/step - loss: 0.2254 - accuracy: 0.5000 - val_loss: 0.3063 - val_accuracy: 0.5714\n",
      "Epoch 26/50\n",
      "1/1 [==============================] - 0s 260ms/step - loss: 0.2589 - accuracy: 0.5000 - val_loss: 0.3264 - val_accuracy: 0.5714\n",
      "Epoch 27/50\n",
      "1/1 [==============================] - 0s 261ms/step - loss: 0.3397 - accuracy: 0.5000 - val_loss: 0.2564 - val_accuracy: 0.5714\n",
      "Epoch 28/50\n",
      "1/1 [==============================] - 0s 262ms/step - loss: 0.2333 - accuracy: 0.5000 - val_loss: 0.2816 - val_accuracy: 0.5714\n",
      "Epoch 29/50\n",
      "1/1 [==============================] - 0s 268ms/step - loss: 0.2292 - accuracy: 0.5000 - val_loss: 0.3255 - val_accuracy: 0.5714\n",
      "Epoch 30/50\n",
      "1/1 [==============================] - 0s 259ms/step - loss: 0.2273 - accuracy: 0.5000 - val_loss: 0.3707 - val_accuracy: 0.5714\n",
      "Epoch 31/50\n",
      "1/1 [==============================] - 0s 280ms/step - loss: 0.2354 - accuracy: 0.5000 - val_loss: 0.8149 - val_accuracy: 0.5714\n",
      "Epoch 32/50\n",
      "1/1 [==============================] - 0s 261ms/step - loss: 0.1955 - accuracy: 0.5000 - val_loss: 0.4772 - val_accuracy: 0.5714\n",
      "Epoch 33/50\n",
      "1/1 [==============================] - 0s 260ms/step - loss: 0.2332 - accuracy: 0.5000 - val_loss: 0.8027 - val_accuracy: 0.5714\n",
      "Epoch 34/50\n",
      "1/1 [==============================] - 0s 259ms/step - loss: 0.1637 - accuracy: 0.5000 - val_loss: 0.8379 - val_accuracy: 0.5714\n",
      "Epoch 35/50\n",
      "1/1 [==============================] - 0s 267ms/step - loss: 0.1565 - accuracy: 0.5000 - val_loss: 0.2893 - val_accuracy: 0.5714\n",
      "Epoch 36/50\n",
      "1/1 [==============================] - 0s 261ms/step - loss: 0.1269 - accuracy: 0.5000 - val_loss: 0.8075 - val_accuracy: 0.5714\n",
      "Epoch 37/50\n",
      "1/1 [==============================] - 0s 264ms/step - loss: 0.1549 - accuracy: 0.5000 - val_loss: 0.7135 - val_accuracy: 0.5714\n",
      "Epoch 38/50\n",
      "1/1 [==============================] - 0s 260ms/step - loss: 0.2948 - accuracy: 0.5000 - val_loss: 0.3691 - val_accuracy: 0.5714\n",
      "Epoch 39/50\n",
      "1/1 [==============================] - 0s 264ms/step - loss: 0.1649 - accuracy: 0.5000 - val_loss: 0.3120 - val_accuracy: 0.5714\n",
      "Epoch 40/50\n",
      "1/1 [==============================] - 0s 260ms/step - loss: 0.1957 - accuracy: 0.5000 - val_loss: 0.8972 - val_accuracy: 0.5714\n",
      "Epoch 41/50\n",
      "1/1 [==============================] - 0s 258ms/step - loss: 0.3331 - accuracy: 0.5000 - val_loss: 0.7261 - val_accuracy: 0.5714\n",
      "Epoch 42/50\n",
      "1/1 [==============================] - 0s 265ms/step - loss: 0.1467 - accuracy: 0.5000 - val_loss: 0.4259 - val_accuracy: 0.5714\n",
      "Epoch 43/50\n",
      "1/1 [==============================] - 0s 265ms/step - loss: 0.1274 - accuracy: 0.5000 - val_loss: 0.6481 - val_accuracy: 0.5714\n",
      "Epoch 44/50\n",
      "1/1 [==============================] - 0s 263ms/step - loss: 0.2533 - accuracy: 0.5000 - val_loss: 0.5067 - val_accuracy: 0.5714\n",
      "Epoch 45/50\n",
      "1/1 [==============================] - 0s 257ms/step - loss: 0.1543 - accuracy: 0.5000 - val_loss: 0.6582 - val_accuracy: 0.5714\n",
      "Epoch 46/50\n",
      "1/1 [==============================] - 0s 263ms/step - loss: 0.1586 - accuracy: 0.5000 - val_loss: 0.9680 - val_accuracy: 0.5714\n",
      "Epoch 47/50\n",
      "1/1 [==============================] - 0s 265ms/step - loss: 0.1838 - accuracy: 0.5000 - val_loss: 1.3689 - val_accuracy: 0.5714\n",
      "Epoch 48/50\n",
      "1/1 [==============================] - 0s 267ms/step - loss: 0.1448 - accuracy: 0.5000 - val_loss: 1.2672 - val_accuracy: 0.5714\n",
      "Epoch 49/50\n",
      "1/1 [==============================] - 0s 260ms/step - loss: 0.2022 - accuracy: 0.5000 - val_loss: 0.8560 - val_accuracy: 0.5714\n",
      "Epoch 50/50\n",
      "1/1 [==============================] - 0s 261ms/step - loss: 0.1236 - accuracy: 0.5000 - val_loss: 0.4290 - val_accuracy: 0.5714\n",
      "Modelo salvo com sucesso!\n"
     ]
    }
   ],
   "source": [
    "# Treine o modelo\n",
    "model.fit(\n",
    "    train_generator,\n",
    "    epochs=num_epochs,\n",
    "    validation_data=validation_generator)\n",
    "\n",
    "# Salve o modelo treinado\n",
    "model.save('modeloClassImagens.h5')\n",
    "\n",
    "print('Modelo salvo com sucesso!')"
   ]
  }
 ],
 "metadata": {
  "kernelspec": {
   "display_name": "base",
   "language": "python",
   "name": "python3"
  },
  "language_info": {
   "codemirror_mode": {
    "name": "ipython",
    "version": 3
   },
   "file_extension": ".py",
   "mimetype": "text/x-python",
   "name": "python",
   "nbconvert_exporter": "python",
   "pygments_lexer": "ipython3",
   "version": "3.11.4"
  }
 },
 "nbformat": 4,
 "nbformat_minor": 2
}
