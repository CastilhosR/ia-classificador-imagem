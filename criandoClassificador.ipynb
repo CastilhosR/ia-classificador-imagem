{
 "cells": [
  {
   "cell_type": "code",
<<<<<<< HEAD
   "execution_count": 214,
=======
   "execution_count": 1,
>>>>>>> 7c4ca7945cfa002ee83353a2be3efb700a6d4c5e
   "metadata": {},
   "outputs": [
    {
     "name": "stdout",
     "output_type": "stream",
     "text": [
      "Defaulting to user installation because normal site-packages is not writeable\n",
      "Requirement already satisfied: tensorflow in /home/pablorosa/.local/lib/python3.10/site-packages (2.14.0)\n",
      "Requirement already satisfied: packaging in /home/pablorosa/.local/lib/python3.10/site-packages (from tensorflow) (23.1)\n",
      "Requirement already satisfied: tensorflow-estimator<2.15,>=2.14.0 in /home/pablorosa/.local/lib/python3.10/site-packages (from tensorflow) (2.14.0)\n",
      "Requirement already satisfied: six>=1.12.0 in /usr/lib/python3/dist-packages (from tensorflow) (1.16.0)\n",
      "Requirement already satisfied: libclang>=13.0.0 in /home/pablorosa/.local/lib/python3.10/site-packages (from tensorflow) (16.0.6)\n",
      "Requirement already satisfied: absl-py>=1.0.0 in /home/pablorosa/.local/lib/python3.10/site-packages (from tensorflow) (2.0.0)\n",
      "Requirement already satisfied: astunparse>=1.6.0 in /home/pablorosa/.local/lib/python3.10/site-packages (from tensorflow) (1.6.3)\n",
      "Requirement already satisfied: typing-extensions>=3.6.6 in /home/pablorosa/.local/lib/python3.10/site-packages (from tensorflow) (4.8.0)\n",
      "Requirement already satisfied: ml-dtypes==0.2.0 in /home/pablorosa/.local/lib/python3.10/site-packages (from tensorflow) (0.2.0)\n",
      "Requirement already satisfied: tensorflow-io-gcs-filesystem>=0.23.1 in /home/pablorosa/.local/lib/python3.10/site-packages (from tensorflow) (0.34.0)\n",
      "Requirement already satisfied: h5py>=2.9.0 in /home/pablorosa/.local/lib/python3.10/site-packages (from tensorflow) (3.10.0)\n",
      "Requirement already satisfied: termcolor>=1.1.0 in /home/pablorosa/.local/lib/python3.10/site-packages (from tensorflow) (2.3.0)\n",
      "Requirement already satisfied: tensorboard<2.15,>=2.14 in /home/pablorosa/.local/lib/python3.10/site-packages (from tensorflow) (2.14.1)\n",
      "Requirement already satisfied: flatbuffers>=23.5.26 in /home/pablorosa/.local/lib/python3.10/site-packages (from tensorflow) (23.5.26)\n",
      "Requirement already satisfied: gast!=0.5.0,!=0.5.1,!=0.5.2,>=0.2.1 in /home/pablorosa/.local/lib/python3.10/site-packages (from tensorflow) (0.5.4)\n",
      "Requirement already satisfied: grpcio<2.0,>=1.24.3 in /home/pablorosa/.local/lib/python3.10/site-packages (from tensorflow) (1.59.0)\n",
      "Requirement already satisfied: numpy>=1.23.5 in /home/pablorosa/.local/lib/python3.10/site-packages (from tensorflow) (1.25.2)\n",
      "Requirement already satisfied: opt-einsum>=2.3.2 in /home/pablorosa/.local/lib/python3.10/site-packages (from tensorflow) (3.3.0)\n",
      "Requirement already satisfied: protobuf!=4.21.0,!=4.21.1,!=4.21.2,!=4.21.3,!=4.21.4,!=4.21.5,<5.0.0dev,>=3.20.3 in /home/pablorosa/.local/lib/python3.10/site-packages (from tensorflow) (4.24.4)\n",
      "Requirement already satisfied: google-pasta>=0.1.1 in /home/pablorosa/.local/lib/python3.10/site-packages (from tensorflow) (0.2.0)\n",
      "Requirement already satisfied: setuptools in /usr/lib/python3/dist-packages (from tensorflow) (59.6.0)\n",
      "Requirement already satisfied: keras<2.15,>=2.14.0 in /home/pablorosa/.local/lib/python3.10/site-packages (from tensorflow) (2.14.0)\n",
      "Requirement already satisfied: wrapt<1.15,>=1.11.0 in /home/pablorosa/.local/lib/python3.10/site-packages (from tensorflow) (1.14.1)\n",
      "Requirement already satisfied: wheel<1.0,>=0.23.0 in /usr/lib/python3/dist-packages (from astunparse>=1.6.0->tensorflow) (0.37.1)\n",
      "Requirement already satisfied: tensorboard-data-server<0.8.0,>=0.7.0 in /home/pablorosa/.local/lib/python3.10/site-packages (from tensorboard<2.15,>=2.14->tensorflow) (0.7.2)\n",
      "Requirement already satisfied: google-auth<3,>=1.6.3 in /home/pablorosa/.local/lib/python3.10/site-packages (from tensorboard<2.15,>=2.14->tensorflow) (2.23.3)\n",
      "Requirement already satisfied: google-auth-oauthlib<1.1,>=0.5 in /home/pablorosa/.local/lib/python3.10/site-packages (from tensorboard<2.15,>=2.14->tensorflow) (1.0.0)\n",
      "Requirement already satisfied: werkzeug>=1.0.1 in /home/pablorosa/.local/lib/python3.10/site-packages (from tensorboard<2.15,>=2.14->tensorflow) (3.0.1)\n",
      "Requirement already satisfied: markdown>=2.6.8 in /home/pablorosa/.local/lib/python3.10/site-packages (from tensorboard<2.15,>=2.14->tensorflow) (3.5)\n",
      "Requirement already satisfied: requests<3,>=2.21.0 in /usr/lib/python3/dist-packages (from tensorboard<2.15,>=2.14->tensorflow) (2.25.1)\n",
      "Requirement already satisfied: rsa<5,>=3.1.4 in /home/pablorosa/.local/lib/python3.10/site-packages (from google-auth<3,>=1.6.3->tensorboard<2.15,>=2.14->tensorflow) (4.9)\n",
      "Requirement already satisfied: pyasn1-modules>=0.2.1 in /home/pablorosa/.local/lib/python3.10/site-packages (from google-auth<3,>=1.6.3->tensorboard<2.15,>=2.14->tensorflow) (0.3.0)\n",
      "Requirement already satisfied: cachetools<6.0,>=2.0.0 in /home/pablorosa/.local/lib/python3.10/site-packages (from google-auth<3,>=1.6.3->tensorboard<2.15,>=2.14->tensorflow) (5.3.2)\n",
      "Requirement already satisfied: requests-oauthlib>=0.7.0 in /home/pablorosa/.local/lib/python3.10/site-packages (from google-auth-oauthlib<1.1,>=0.5->tensorboard<2.15,>=2.14->tensorflow) (1.3.1)\n",
      "Requirement already satisfied: MarkupSafe>=2.1.1 in /home/pablorosa/.local/lib/python3.10/site-packages (from werkzeug>=1.0.1->tensorboard<2.15,>=2.14->tensorflow) (2.1.3)\n",
      "Requirement already satisfied: pyasn1<0.6.0,>=0.4.6 in /home/pablorosa/.local/lib/python3.10/site-packages (from pyasn1-modules>=0.2.1->google-auth<3,>=1.6.3->tensorboard<2.15,>=2.14->tensorflow) (0.5.0)\n",
      "Requirement already satisfied: oauthlib>=3.0.0 in /usr/lib/python3/dist-packages (from requests-oauthlib>=0.7.0->google-auth-oauthlib<1.1,>=0.5->tensorboard<2.15,>=2.14->tensorflow) (3.2.0)\n"
     ]
    }
   ],
   "source": [
    "!pip install tensorflow"
   ]
  },
  {
   "cell_type": "code",
<<<<<<< HEAD
   "execution_count": 215,
=======
   "execution_count": 2,
>>>>>>> 7c4ca7945cfa002ee83353a2be3efb700a6d4c5e
   "metadata": {},
   "outputs": [
    {
     "name": "stdout",
     "output_type": "stream",
     "text": [
      "Defaulting to user installation because normal site-packages is not writeable\n",
      "Requirement already satisfied: scipy in /home/pablorosa/.local/lib/python3.10/site-packages (1.11.3)\n",
      "Requirement already satisfied: numpy<1.28.0,>=1.21.6 in /home/pablorosa/.local/lib/python3.10/site-packages (from scipy) (1.25.2)\n"
     ]
    }
   ],
   "source": [
    "!pip install scipy"
   ]
  },
  {
   "cell_type": "code",
   "execution_count": 3,
   "metadata": {},
   "outputs": [
    {
     "name": "stderr",
     "output_type": "stream",
     "text": [
      "2023-10-27 15:55:22.317704: I tensorflow/tsl/cuda/cudart_stub.cc:28] Could not find cuda drivers on your machine, GPU will not be used.\n",
      "2023-10-27 15:55:22.365640: E tensorflow/compiler/xla/stream_executor/cuda/cuda_dnn.cc:9342] Unable to register cuDNN factory: Attempting to register factory for plugin cuDNN when one has already been registered\n",
      "2023-10-27 15:55:22.365703: E tensorflow/compiler/xla/stream_executor/cuda/cuda_fft.cc:609] Unable to register cuFFT factory: Attempting to register factory for plugin cuFFT when one has already been registered\n",
      "2023-10-27 15:55:22.365752: E tensorflow/compiler/xla/stream_executor/cuda/cuda_blas.cc:1518] Unable to register cuBLAS factory: Attempting to register factory for plugin cuBLAS when one has already been registered\n",
      "2023-10-27 15:55:22.378477: I tensorflow/tsl/cuda/cudart_stub.cc:28] Could not find cuda drivers on your machine, GPU will not be used.\n",
      "2023-10-27 15:55:22.379121: I tensorflow/core/platform/cpu_feature_guard.cc:182] This TensorFlow binary is optimized to use available CPU instructions in performance-critical operations.\n",
      "To enable the following instructions: AVX2 FMA, in other operations, rebuild TensorFlow with the appropriate compiler flags.\n",
      "2023-10-27 15:55:24.374658: W tensorflow/compiler/tf2tensorrt/utils/py_utils.cc:38] TF-TRT Warning: Could not find TensorRT\n"
     ]
    }
   ],
   "source": [
    "import tensorflow as tf\n",
    "import scipy, numpy\n",
    "\n",
    "from tensorflow.keras.preprocessing.image import ImageDataGenerator\n",
    "from tensorflow.keras.models import Sequential\n",
    "from tensorflow.keras.layers import Conv2D, MaxPooling2D, Flatten, Dense, Dropout"
   ]
  },
  {
   "cell_type": "code",
<<<<<<< HEAD
   "execution_count": 216,
=======
   "execution_count": 4,
>>>>>>> 7c4ca7945cfa002ee83353a2be3efb700a6d4c5e
   "metadata": {},
   "outputs": [],
   "source": [
    "# Caminhos para as pastas de dados\n",
    "train_data_dir = './data'\n",
<<<<<<< HEAD
    "batch_size = 32 # ***\n",
=======
    "batch_size = 16\n",
>>>>>>> 7c4ca7945cfa002ee83353a2be3efb700a6d4c5e
    "image_size = (150, 150)\n",
    "num_epochs = 50\n",
    "num_classes = 2"
   ]
  },
  {
   "cell_type": "code",
<<<<<<< HEAD
   "execution_count": 217,
=======
   "execution_count": 5,
>>>>>>> 7c4ca7945cfa002ee83353a2be3efb700a6d4c5e
   "metadata": {},
   "outputs": [],
   "source": [
    "# Crie geradores de dados de treinamento\n",
    "train_datagen = ImageDataGenerator(\n",
    "    rescale=1.0 / 255, # Normalização das imagens\n",
    "    validation_split=0.25,  # Define a divisão de validação\n",
    "    shear_range=0.2,\n",
    "    zoom_range=0.2,\n",
    "    horizontal_flip=True)    "
   ]
  },
  {
   "cell_type": "code",
<<<<<<< HEAD
   "execution_count": 218,
=======
   "execution_count": 6,
>>>>>>> 7c4ca7945cfa002ee83353a2be3efb700a6d4c5e
   "metadata": {},
   "outputs": [
    {
     "name": "stdout",
     "output_type": "stream",
     "text": [
<<<<<<< HEAD
      "Found 21 images belonging to 2 classes.\n"
=======
      "Found 38 images belonging to 2 classes.\n"
>>>>>>> 7c4ca7945cfa002ee83353a2be3efb700a6d4c5e
     ]
    }
   ],
   "source": [
    "train_generator = train_datagen.flow_from_directory(\n",
    "    train_data_dir,\n",
    "    target_size=image_size,\n",
    "    batch_size=batch_size,\n",
    "    class_mode='binary',\n",
    "    subset='training'\n",
    ")"
   ]
  },
  {
   "cell_type": "code",
<<<<<<< HEAD
   "execution_count": 219,
=======
   "execution_count": 7,
>>>>>>> 7c4ca7945cfa002ee83353a2be3efb700a6d4c5e
   "metadata": {},
   "outputs": [
    {
     "name": "stdout",
     "output_type": "stream",
     "text": [
<<<<<<< HEAD
      "Found 6 images belonging to 2 classes.\n"
=======
      "Found 15 images belonging to 2 classes.\n"
>>>>>>> 7c4ca7945cfa002ee83353a2be3efb700a6d4c5e
     ]
    }
   ],
   "source": [
    "validation_generator = train_datagen.flow_from_directory(\n",
    "    train_data_dir,\n",
    "    target_size=image_size,\n",
    "    batch_size=batch_size,\n",
    "    class_mode='binary',\n",
    "    subset='validation'\n",
    ")"
   ]
  },
  {
   "cell_type": "code",
<<<<<<< HEAD
   "execution_count": 220,
=======
   "execution_count": 8,
>>>>>>> 7c4ca7945cfa002ee83353a2be3efb700a6d4c5e
   "metadata": {},
   "outputs": [],
   "source": [
    "model = Sequential()\n",
    "model.add(Conv2D(32, (3, 3), input_shape=(image_size[0], image_size[1], 3), activation='relu'))\n",
    "model.add(MaxPooling2D(pool_size=(2, 2)))\n",
    "model.add(Conv2D(64, (3, 3), activation='relu'))\n",
    "model.add(MaxPooling2D(pool_size=(2, 2)))\n",
    "model.add(Flatten())\n",
    "model.add(Dense(64, activation='relu'))\n",
    "model.add(Dropout(0.5))\n",
    "model.add(Dense(1, activation='sigmoid'))  # Camada de saída com 1 unidade para classificação binária"
   ]
  },
  {
   "cell_type": "code",
<<<<<<< HEAD
   "execution_count": 221,
=======
   "execution_count": 9,
>>>>>>> 7c4ca7945cfa002ee83353a2be3efb700a6d4c5e
   "metadata": {},
   "outputs": [],
   "source": [
    "# Compile o modelo\n",
    "model.compile(loss='binary_crossentropy',\n",
    "              optimizer='adam',\n",
    "              metrics=['accuracy'])"
   ]
  },
  {
   "cell_type": "code",
<<<<<<< HEAD
   "execution_count": 222,
=======
   "execution_count": 10,
>>>>>>> 7c4ca7945cfa002ee83353a2be3efb700a6d4c5e
   "metadata": {},
   "outputs": [
    {
     "name": "stdout",
     "output_type": "stream",
     "text": [
      "Epoch 1/50\n",
<<<<<<< HEAD
      "1/1 [==============================] - 1s 958ms/step - loss: 0.6725 - accuracy: 0.5714 - val_loss: 1.7303 - val_accuracy: 0.5000\n",
      "Epoch 2/50\n",
      "1/1 [==============================] - 0s 270ms/step - loss: 2.1646 - accuracy: 0.5238 - val_loss: 5.0638 - val_accuracy: 0.5000\n",
      "Epoch 3/50\n",
      "1/1 [==============================] - 0s 267ms/step - loss: 4.6109 - accuracy: 0.5238 - val_loss: 3.9022 - val_accuracy: 0.5000\n",
      "Epoch 4/50\n",
      "1/1 [==============================] - 0s 265ms/step - loss: 3.8240 - accuracy: 0.5238 - val_loss: 1.5235 - val_accuracy: 0.5000\n",
      "Epoch 5/50\n",
      "1/1 [==============================] - 0s 265ms/step - loss: 1.6076 - accuracy: 0.5714 - val_loss: 0.9237 - val_accuracy: 0.5000\n",
      "Epoch 6/50\n",
      "1/1 [==============================] - 0s 263ms/step - loss: 1.1625 - accuracy: 0.6667 - val_loss: 1.1219 - val_accuracy: 0.5000\n",
      "Epoch 7/50\n",
      "1/1 [==============================] - 0s 263ms/step - loss: 1.2260 - accuracy: 0.4762 - val_loss: 0.8798 - val_accuracy: 0.5000\n",
      "Epoch 8/50\n",
      "1/1 [==============================] - 0s 265ms/step - loss: 0.9910 - accuracy: 0.4762 - val_loss: 0.7323 - val_accuracy: 0.5000\n",
      "Epoch 9/50\n",
      "1/1 [==============================] - 0s 264ms/step - loss: 0.8838 - accuracy: 0.4286 - val_loss: 0.6871 - val_accuracy: 0.5000\n",
      "Epoch 10/50\n",
      "1/1 [==============================] - 0s 265ms/step - loss: 0.6869 - accuracy: 0.4762 - val_loss: 0.6684 - val_accuracy: 0.5000\n",
      "Epoch 11/50\n",
      "1/1 [==============================] - 0s 269ms/step - loss: 0.6530 - accuracy: 0.4286 - val_loss: 0.6553 - val_accuracy: 0.5000\n",
      "Epoch 12/50\n",
      "1/1 [==============================] - 0s 272ms/step - loss: 0.6364 - accuracy: 0.4762 - val_loss: 0.6408 - val_accuracy: 0.5000\n",
      "Epoch 13/50\n",
      "1/1 [==============================] - 0s 269ms/step - loss: 0.6014 - accuracy: 0.5714 - val_loss: 0.6400 - val_accuracy: 0.6667\n",
      "Epoch 14/50\n",
      "1/1 [==============================] - 0s 263ms/step - loss: 0.5779 - accuracy: 0.6190 - val_loss: 0.6383 - val_accuracy: 0.6667\n",
      "Epoch 15/50\n",
      "1/1 [==============================] - 0s 268ms/step - loss: 0.5730 - accuracy: 0.7619 - val_loss: 0.6626 - val_accuracy: 0.6667\n",
      "Epoch 16/50\n",
      "1/1 [==============================] - 0s 266ms/step - loss: 0.5331 - accuracy: 0.8095 - val_loss: 0.5964 - val_accuracy: 0.5000\n",
      "Epoch 17/50\n",
      "1/1 [==============================] - 0s 265ms/step - loss: 0.4528 - accuracy: 0.7619 - val_loss: 0.5270 - val_accuracy: 0.8333\n",
      "Epoch 18/50\n",
      "1/1 [==============================] - 0s 268ms/step - loss: 0.4978 - accuracy: 0.8095 - val_loss: 0.4686 - val_accuracy: 0.6667\n",
      "Epoch 19/50\n",
      "1/1 [==============================] - 0s 262ms/step - loss: 0.4742 - accuracy: 0.8095 - val_loss: 0.6219 - val_accuracy: 0.5000\n",
      "Epoch 20/50\n",
      "1/1 [==============================] - 0s 266ms/step - loss: 0.4090 - accuracy: 0.7619 - val_loss: 0.4907 - val_accuracy: 0.6667\n",
      "Epoch 21/50\n",
      "1/1 [==============================] - 0s 268ms/step - loss: 0.3770 - accuracy: 0.9048 - val_loss: 0.4205 - val_accuracy: 0.8333\n",
      "Epoch 22/50\n",
      "1/1 [==============================] - 0s 264ms/step - loss: 0.3876 - accuracy: 0.8095 - val_loss: 0.3997 - val_accuracy: 1.0000\n",
      "Epoch 23/50\n",
      "1/1 [==============================] - 0s 266ms/step - loss: 0.2596 - accuracy: 1.0000 - val_loss: 0.3390 - val_accuracy: 0.8333\n",
      "Epoch 24/50\n",
      "1/1 [==============================] - 0s 269ms/step - loss: 0.2726 - accuracy: 0.8571 - val_loss: 0.3651 - val_accuracy: 0.8333\n",
      "Epoch 25/50\n",
      "1/1 [==============================] - 0s 270ms/step - loss: 0.3708 - accuracy: 0.8095 - val_loss: 0.6020 - val_accuracy: 0.5000\n",
      "Epoch 26/50\n",
      "1/1 [==============================] - 0s 275ms/step - loss: 0.4081 - accuracy: 0.7619 - val_loss: 0.2436 - val_accuracy: 1.0000\n",
      "Epoch 27/50\n",
      "1/1 [==============================] - 0s 269ms/step - loss: 0.2826 - accuracy: 0.9048 - val_loss: 0.3503 - val_accuracy: 1.0000\n",
      "Epoch 28/50\n",
      "1/1 [==============================] - 0s 269ms/step - loss: 0.1896 - accuracy: 0.9524 - val_loss: 0.2546 - val_accuracy: 0.8333\n",
      "Epoch 29/50\n",
      "1/1 [==============================] - 0s 264ms/step - loss: 0.2001 - accuracy: 0.9048 - val_loss: 0.5438 - val_accuracy: 0.6667\n",
      "Epoch 30/50\n",
      "1/1 [==============================] - 0s 274ms/step - loss: 0.2807 - accuracy: 0.8571 - val_loss: 0.4663 - val_accuracy: 0.6667\n",
      "Epoch 31/50\n",
      "1/1 [==============================] - 0s 268ms/step - loss: 0.2089 - accuracy: 1.0000 - val_loss: 0.2272 - val_accuracy: 0.8333\n",
      "Epoch 32/50\n",
      "1/1 [==============================] - 0s 268ms/step - loss: 0.1883 - accuracy: 0.9524 - val_loss: 0.2434 - val_accuracy: 0.8333\n",
      "Epoch 33/50\n",
      "1/1 [==============================] - 0s 280ms/step - loss: 0.1919 - accuracy: 0.9048 - val_loss: 0.3622 - val_accuracy: 0.8333\n",
      "Epoch 34/50\n",
      "1/1 [==============================] - 0s 268ms/step - loss: 0.1516 - accuracy: 0.9048 - val_loss: 0.3565 - val_accuracy: 0.6667\n",
      "Epoch 35/50\n",
      "1/1 [==============================] - 0s 270ms/step - loss: 0.1724 - accuracy: 1.0000 - val_loss: 0.2206 - val_accuracy: 0.8333\n",
      "Epoch 36/50\n",
      "1/1 [==============================] - 0s 272ms/step - loss: 0.1603 - accuracy: 0.9524 - val_loss: 0.1864 - val_accuracy: 1.0000\n",
      "Epoch 37/50\n",
      "1/1 [==============================] - 0s 268ms/step - loss: 0.1277 - accuracy: 1.0000 - val_loss: 0.1334 - val_accuracy: 1.0000\n",
      "Epoch 38/50\n",
      "1/1 [==============================] - 0s 263ms/step - loss: 0.1308 - accuracy: 0.9524 - val_loss: 0.1935 - val_accuracy: 0.8333\n",
      "Epoch 39/50\n",
      "1/1 [==============================] - 0s 263ms/step - loss: 0.1326 - accuracy: 0.9048 - val_loss: 0.2340 - val_accuracy: 0.8333\n",
      "Epoch 40/50\n",
      "1/1 [==============================] - 0s 265ms/step - loss: 0.0861 - accuracy: 1.0000 - val_loss: 0.1118 - val_accuracy: 1.0000\n",
      "Epoch 41/50\n",
      "1/1 [==============================] - 0s 271ms/step - loss: 0.1229 - accuracy: 0.9524 - val_loss: 0.4509 - val_accuracy: 0.8333\n",
      "Epoch 42/50\n",
      "1/1 [==============================] - 0s 264ms/step - loss: 0.0600 - accuracy: 1.0000 - val_loss: 0.0474 - val_accuracy: 1.0000\n",
      "Epoch 43/50\n",
      "1/1 [==============================] - 0s 267ms/step - loss: 0.1382 - accuracy: 0.9524 - val_loss: 0.4416 - val_accuracy: 0.8333\n",
      "Epoch 44/50\n",
      "1/1 [==============================] - 0s 269ms/step - loss: 0.2999 - accuracy: 0.9048 - val_loss: 0.2306 - val_accuracy: 0.8333\n",
      "Epoch 45/50\n",
      "1/1 [==============================] - 0s 271ms/step - loss: 0.0584 - accuracy: 1.0000 - val_loss: 0.7494 - val_accuracy: 0.6667\n",
      "Epoch 46/50\n",
      "1/1 [==============================] - 0s 263ms/step - loss: 0.0920 - accuracy: 1.0000 - val_loss: 0.0459 - val_accuracy: 1.0000\n",
      "Epoch 47/50\n",
      "1/1 [==============================] - 0s 266ms/step - loss: 0.0539 - accuracy: 1.0000 - val_loss: 0.1126 - val_accuracy: 1.0000\n",
      "Epoch 48/50\n",
      "1/1 [==============================] - 0s 271ms/step - loss: 0.0901 - accuracy: 0.9524 - val_loss: 0.5305 - val_accuracy: 0.8333\n",
      "Epoch 49/50\n",
      "1/1 [==============================] - 0s 266ms/step - loss: 0.1232 - accuracy: 0.9524 - val_loss: 0.7012 - val_accuracy: 0.8333\n",
      "Epoch 50/50\n",
      "1/1 [==============================] - 0s 266ms/step - loss: 0.0980 - accuracy: 0.9524 - val_loss: 0.4044 - val_accuracy: 0.8333\n",
=======
      "3/3 [==============================] - 3s 731ms/step - loss: 1.7102 - accuracy: 0.5000 - val_loss: 0.6737 - val_accuracy: 0.6000\n",
      "Epoch 2/50\n",
      "3/3 [==============================] - 2s 493ms/step - loss: 1.2462 - accuracy: 0.4211 - val_loss: 0.6595 - val_accuracy: 0.5333\n",
      "Epoch 3/50\n",
      "3/3 [==============================] - 1s 548ms/step - loss: 0.7843 - accuracy: 0.5526 - val_loss: 0.6520 - val_accuracy: 0.4667\n",
      "Epoch 4/50\n",
      "3/3 [==============================] - 1s 433ms/step - loss: 0.6356 - accuracy: 0.6053 - val_loss: 0.6639 - val_accuracy: 0.4667\n",
      "Epoch 5/50\n",
      "3/3 [==============================] - 2s 433ms/step - loss: 0.6251 - accuracy: 0.6053 - val_loss: 0.6581 - val_accuracy: 0.6000\n",
      "Epoch 6/50\n",
      "3/3 [==============================] - 1s 448ms/step - loss: 0.5998 - accuracy: 0.6316 - val_loss: 0.6282 - val_accuracy: 0.6667\n",
      "Epoch 7/50\n",
      "3/3 [==============================] - 1s 542ms/step - loss: 0.6121 - accuracy: 0.6579 - val_loss: 0.6036 - val_accuracy: 0.8000\n",
      "Epoch 8/50\n",
      "3/3 [==============================] - 2s 654ms/step - loss: 0.5291 - accuracy: 0.7105 - val_loss: 0.5394 - val_accuracy: 0.8667\n",
      "Epoch 9/50\n",
      "3/3 [==============================] - 2s 452ms/step - loss: 0.4790 - accuracy: 0.8421 - val_loss: 0.4860 - val_accuracy: 0.8000\n",
      "Epoch 10/50\n",
      "3/3 [==============================] - 1s 439ms/step - loss: 0.4498 - accuracy: 0.7895 - val_loss: 0.5144 - val_accuracy: 0.8000\n",
      "Epoch 11/50\n",
      "3/3 [==============================] - 2s 442ms/step - loss: 0.4134 - accuracy: 0.8158 - val_loss: 0.5064 - val_accuracy: 0.8000\n",
      "Epoch 12/50\n",
      "3/3 [==============================] - 1s 443ms/step - loss: 0.2889 - accuracy: 0.9211 - val_loss: 0.5632 - val_accuracy: 0.8000\n",
      "Epoch 13/50\n",
      "3/3 [==============================] - 1s 434ms/step - loss: 0.4926 - accuracy: 0.7632 - val_loss: 0.4513 - val_accuracy: 0.8667\n",
      "Epoch 14/50\n",
      "3/3 [==============================] - 1s 373ms/step - loss: 0.2598 - accuracy: 0.9211 - val_loss: 0.4702 - val_accuracy: 0.7333\n",
      "Epoch 15/50\n",
      "3/3 [==============================] - 1s 454ms/step - loss: 0.4151 - accuracy: 0.7895 - val_loss: 0.4241 - val_accuracy: 0.8667\n",
      "Epoch 16/50\n",
      "3/3 [==============================] - 1s 453ms/step - loss: 0.3853 - accuracy: 0.7632 - val_loss: 0.4353 - val_accuracy: 0.8667\n",
      "Epoch 17/50\n",
      "3/3 [==============================] - 1s 393ms/step - loss: 0.3923 - accuracy: 0.8684 - val_loss: 0.3716 - val_accuracy: 0.8667\n",
      "Epoch 18/50\n",
      "3/3 [==============================] - 1s 290ms/step - loss: 0.3132 - accuracy: 0.8421 - val_loss: 0.3999 - val_accuracy: 0.8667\n",
      "Epoch 19/50\n",
      "3/3 [==============================] - 1s 288ms/step - loss: 0.2442 - accuracy: 0.8947 - val_loss: 0.3545 - val_accuracy: 0.9333\n",
      "Epoch 20/50\n",
      "3/3 [==============================] - 1s 347ms/step - loss: 0.2532 - accuracy: 0.8684 - val_loss: 0.4245 - val_accuracy: 0.8000\n",
      "Epoch 21/50\n",
      "3/3 [==============================] - 1s 282ms/step - loss: 0.2352 - accuracy: 0.8684 - val_loss: 0.4522 - val_accuracy: 0.8667\n",
      "Epoch 22/50\n",
      "3/3 [==============================] - 1s 350ms/step - loss: 0.2714 - accuracy: 0.8158 - val_loss: 0.4108 - val_accuracy: 0.8000\n",
      "Epoch 23/50\n",
      "3/3 [==============================] - 1s 451ms/step - loss: 0.2488 - accuracy: 0.8947 - val_loss: 0.4714 - val_accuracy: 0.8667\n",
      "Epoch 24/50\n",
      "3/3 [==============================] - 1s 407ms/step - loss: 0.1697 - accuracy: 0.9474 - val_loss: 0.3471 - val_accuracy: 0.8667\n",
      "Epoch 25/50\n",
      "3/3 [==============================] - 1s 307ms/step - loss: 0.1591 - accuracy: 0.9737 - val_loss: 0.3224 - val_accuracy: 0.8667\n",
      "Epoch 26/50\n",
      "3/3 [==============================] - 1s 293ms/step - loss: 0.1562 - accuracy: 0.9474 - val_loss: 0.3738 - val_accuracy: 0.7333\n",
      "Epoch 27/50\n",
      "3/3 [==============================] - 1s 415ms/step - loss: 0.1398 - accuracy: 0.9737 - val_loss: 0.5473 - val_accuracy: 0.8000\n",
      "Epoch 28/50\n",
      "3/3 [==============================] - 2s 725ms/step - loss: 0.2622 - accuracy: 0.8684 - val_loss: 0.4180 - val_accuracy: 0.8000\n",
      "Epoch 29/50\n",
      "3/3 [==============================] - 2s 602ms/step - loss: 0.2034 - accuracy: 0.8947 - val_loss: 0.5296 - val_accuracy: 0.8000\n",
      "Epoch 30/50\n",
      "3/3 [==============================] - 1s 438ms/step - loss: 0.1751 - accuracy: 1.0000 - val_loss: 0.6779 - val_accuracy: 0.6667\n",
      "Epoch 31/50\n",
      "3/3 [==============================] - 1s 575ms/step - loss: 0.2949 - accuracy: 0.9211 - val_loss: 0.3101 - val_accuracy: 0.8667\n",
      "Epoch 32/50\n",
      "3/3 [==============================] - 2s 516ms/step - loss: 0.2626 - accuracy: 0.8947 - val_loss: 0.3315 - val_accuracy: 0.8667\n",
      "Epoch 33/50\n",
      "3/3 [==============================] - 2s 440ms/step - loss: 0.2212 - accuracy: 0.9211 - val_loss: 0.5453 - val_accuracy: 0.6000\n",
      "Epoch 34/50\n",
      "3/3 [==============================] - 1s 553ms/step - loss: 0.1643 - accuracy: 0.9474 - val_loss: 0.7588 - val_accuracy: 0.6667\n",
      "Epoch 35/50\n",
      "3/3 [==============================] - 2s 448ms/step - loss: 0.1974 - accuracy: 0.8947 - val_loss: 0.7337 - val_accuracy: 0.8000\n",
      "Epoch 36/50\n",
      "3/3 [==============================] - 1s 440ms/step - loss: 0.1119 - accuracy: 0.9737 - val_loss: 0.5156 - val_accuracy: 0.8000\n",
      "Epoch 37/50\n",
      "3/3 [==============================] - 2s 456ms/step - loss: 0.1431 - accuracy: 0.9211 - val_loss: 0.4570 - val_accuracy: 0.8667\n",
      "Epoch 38/50\n",
      "3/3 [==============================] - 1s 438ms/step - loss: 0.1088 - accuracy: 0.9737 - val_loss: 0.4298 - val_accuracy: 0.8000\n",
      "Epoch 39/50\n",
      "3/3 [==============================] - 1s 442ms/step - loss: 0.1959 - accuracy: 0.9474 - val_loss: 0.4314 - val_accuracy: 0.8000\n",
      "Epoch 40/50\n",
      "3/3 [==============================] - 1s 421ms/step - loss: 0.1240 - accuracy: 0.9474 - val_loss: 0.3893 - val_accuracy: 0.7333\n",
      "Epoch 41/50\n",
      "3/3 [==============================] - 1s 441ms/step - loss: 0.1733 - accuracy: 0.9211 - val_loss: 0.5134 - val_accuracy: 0.7333\n",
      "Epoch 42/50\n",
      "3/3 [==============================] - 1s 536ms/step - loss: 0.0841 - accuracy: 0.9474 - val_loss: 0.4567 - val_accuracy: 0.7333\n",
      "Epoch 43/50\n",
      "3/3 [==============================] - 1s 460ms/step - loss: 0.0713 - accuracy: 0.9737 - val_loss: 0.3389 - val_accuracy: 0.8667\n",
      "Epoch 44/50\n",
      "3/3 [==============================] - 1s 449ms/step - loss: 0.0788 - accuracy: 0.9737 - val_loss: 0.3952 - val_accuracy: 0.8000\n",
      "Epoch 45/50\n",
      "3/3 [==============================] - 1s 540ms/step - loss: 0.0815 - accuracy: 0.9737 - val_loss: 0.4299 - val_accuracy: 0.8667\n",
      "Epoch 46/50\n",
      "3/3 [==============================] - 1s 528ms/step - loss: 0.1054 - accuracy: 0.9737 - val_loss: 0.4582 - val_accuracy: 0.8667\n",
      "Epoch 47/50\n",
      "3/3 [==============================] - 1s 451ms/step - loss: 0.0764 - accuracy: 1.0000 - val_loss: 0.7782 - val_accuracy: 0.8000\n",
      "Epoch 48/50\n",
      "3/3 [==============================] - 1s 438ms/step - loss: 0.1257 - accuracy: 0.9474 - val_loss: 0.6264 - val_accuracy: 0.8667\n",
      "Epoch 49/50\n",
      "3/3 [==============================] - 2s 558ms/step - loss: 0.0985 - accuracy: 0.9474 - val_loss: 0.5429 - val_accuracy: 0.6667\n",
      "Epoch 50/50\n",
      "3/3 [==============================] - 2s 484ms/step - loss: 0.0607 - accuracy: 0.9737 - val_loss: 0.7176 - val_accuracy: 0.8000\n",
>>>>>>> 7c4ca7945cfa002ee83353a2be3efb700a6d4c5e
      "Modelo salvo com sucesso!\n"
     ]
    },
    {
     "name": "stderr",
     "output_type": "stream",
     "text": [
      "/home/pablorosa/.local/lib/python3.10/site-packages/keras/src/engine/training.py:3079: UserWarning: You are saving your model as an HDF5 file via `model.save()`. This file format is considered legacy. We recommend using instead the native Keras format, e.g. `model.save('my_model.keras')`.\n",
      "  saving_api.save_model(\n"
     ]
    }
   ],
   "source": [
    "# Treine o modelo\n",
    "model.fit(\n",
    "    train_generator,\n",
    "    epochs=num_epochs,\n",
    "    validation_data=validation_generator)\n",
    "\n",
    "# Salve o modelo treinado\n",
    "model.save('modeloClassImagens.h5')\n",
    "\n",
    "print('Modelo salvo com sucesso!')"
   ]
  }
 ],
 "metadata": {
  "kernelspec": {
   "display_name": "base",
   "language": "python",
   "name": "python3"
  },
  "language_info": {
   "codemirror_mode": {
    "name": "ipython",
    "version": 3
   },
   "file_extension": ".py",
   "mimetype": "text/x-python",
   "name": "python",
   "nbconvert_exporter": "python",
   "pygments_lexer": "ipython3",
   "version": "3.10.12"
  }
 },
 "nbformat": 4,
 "nbformat_minor": 2
}
