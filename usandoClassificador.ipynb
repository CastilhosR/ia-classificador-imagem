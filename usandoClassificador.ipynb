{
 "cells": [
  {
   "cell_type": "code",
<<<<<<< HEAD
   "execution_count": 19,
=======
   "execution_count": 1,
>>>>>>> 7c4ca7945cfa002ee83353a2be3efb700a6d4c5e
   "metadata": {},
   "outputs": [
    {
     "name": "stderr",
     "output_type": "stream",
     "text": [
      "2023-10-27 15:57:07.602781: I tensorflow/tsl/cuda/cudart_stub.cc:28] Could not find cuda drivers on your machine, GPU will not be used.\n",
      "2023-10-27 15:57:07.649173: E tensorflow/compiler/xla/stream_executor/cuda/cuda_dnn.cc:9342] Unable to register cuDNN factory: Attempting to register factory for plugin cuDNN when one has already been registered\n",
      "2023-10-27 15:57:07.649210: E tensorflow/compiler/xla/stream_executor/cuda/cuda_fft.cc:609] Unable to register cuFFT factory: Attempting to register factory for plugin cuFFT when one has already been registered\n",
      "2023-10-27 15:57:07.649243: E tensorflow/compiler/xla/stream_executor/cuda/cuda_blas.cc:1518] Unable to register cuBLAS factory: Attempting to register factory for plugin cuBLAS when one has already been registered\n",
      "2023-10-27 15:57:07.658916: I tensorflow/tsl/cuda/cudart_stub.cc:28] Could not find cuda drivers on your machine, GPU will not be used.\n",
      "2023-10-27 15:57:07.659575: I tensorflow/core/platform/cpu_feature_guard.cc:182] This TensorFlow binary is optimized to use available CPU instructions in performance-critical operations.\n",
      "To enable the following instructions: AVX2 FMA, in other operations, rebuild TensorFlow with the appropriate compiler flags.\n",
      "2023-10-27 15:57:09.790350: W tensorflow/compiler/tf2tensorrt/utils/py_utils.cc:38] TF-TRT Warning: Could not find TensorRT\n"
     ]
    }
   ],
   "source": [
    "import os\n",
    "import tensorflow as tf\n",
    "from tensorflow.keras.preprocessing import image\n",
    "import numpy as npW"
   ]
  },
  {
   "cell_type": "code",
<<<<<<< HEAD
   "execution_count": 20,
=======
   "execution_count": 2,
>>>>>>> 7c4ca7945cfa002ee83353a2be3efb700a6d4c5e
   "metadata": {},
   "outputs": [
    {
     "name": "stdout",
     "output_type": "stream",
     "text": [
<<<<<<< HEAD
      "1/1 [==============================] - 0s 53ms/step\n"
=======
      "1/1 [==============================] - 0s 129ms/step\n"
>>>>>>> 7c4ca7945cfa002ee83353a2be3efb700a6d4c5e
     ]
    }
   ],
   "source": [
    "# Carregue o modelo treinado\n",
    "model = tf.keras.models.load_model('modeloClassImagens.h5')\n",
    "\n",
    "# Carregue uma nova imagem para classificação\n",
    "new_image_path = './test/teste_gato_1.jpg'  # Substitua 'nova_imagem.jpg' pelo nome da sua nova imagem\n",
    "\n",
    "# Pré-processe a nova imagem\n",
    "img = image.load_img(new_image_path, target_size=(150, 150))\n",
    "img = image.img_to_array(img)\n",
    "img = np.expand_dims(img, axis=0)\n",
    "img = img / 255.0  # Normalize a imagem (igual ao pré-processamento durante o treinamento)\n",
    "\n",
    "# Faça a previsão usando o modelo carregado\n",
    "prediction = model.predict(img)"
   ]
  },
  {
   "cell_type": "code",
<<<<<<< HEAD
   "execution_count": 21,
=======
   "execution_count": 3,
>>>>>>> 7c4ca7945cfa002ee83353a2be3efb700a6d4c5e
   "metadata": {},
   "outputs": [
    {
     "name": "stdout",
     "output_type": "stream",
     "text": [
<<<<<<< HEAD
      "87.71\n",
=======
      "66.91\n",
>>>>>>> 7c4ca7945cfa002ee83353a2be3efb700a6d4c5e
      "Classe 1, um gato\n"
     ]
    },
    {
     "name": "stderr",
     "output_type": "stream",
     "text": [
      "/tmp/ipykernel_53464/3286442835.py:2: DeprecationWarning: Conversion of an array with ndim > 0 to a scalar is deprecated, and will error in future. Ensure you extract a single element from your array before performing this operation. (Deprecated NumPy 1.25.)\n",
      "  print(f'%.2f' % (prediction * 100))\n"
     ]
    }
   ],
   "source": [
    "# Classifique a previsão\n",
    "print(f'%.2f' % (prediction * 100))\n",
    "\n",
    "if prediction < 0.5:\n",
    "    print(\"Classe 0, um porco\")  # Defina a classe correspondente\n",
    "else:\n",
    "    print(\"Classe 1, um gato\")  # Defina a classe correspondente\n"
   ]
  },
  {
   "cell_type": "code",
<<<<<<< HEAD
   "execution_count": 22,
=======
   "execution_count": 6,
>>>>>>> 7c4ca7945cfa002ee83353a2be3efb700a6d4c5e
   "metadata": {},
   "outputs": [
    {
     "name": "stdout",
     "output_type": "stream",
     "text": [
<<<<<<< HEAD
      "teste_gato_1.jpg\n",
      "1/1 [==============================] - 0s 20ms/step\n",
      "Classe 1, um gato\n",
      "\n",
      "0.88\n",
      "\n",
      "teste_gato_2.jpg\n",
      "1/1 [==============================] - 0s 18ms/step\n",
      "Classe 1, um gato\n",
      "\n",
      "0.52\n",
      "\n",
      "teste_porco_1.jpg\n",
      "1/1 [==============================] - 0s 18ms/step\n",
      "Classe 0, um porco\n",
      "\n",
      "0.39\n",
      "\n",
      "teste_porco_2.jpg\n",
      "1/1 [==============================] - 0s 16ms/step\n",
      "Classe 0, um porco\n",
      "\n",
      "0.03\n",
      "\n",
      "teste_porco_3.jpg\n",
      "1/1 [==============================] - 0s 18ms/step\n",
      "Classe 1, um gato\n",
      "\n",
      "0.96\n",
=======
      "teste_porco_3_gen.jpeg\n",
      "1/1 [==============================] - 0s 27ms/step\n",
      "Classe 0, um porco\n",
      "0.00\n",
      "\n",
      "teste_gato_2.jpg\n",
      "1/1 [==============================] - 0s 74ms/step\n",
      "Classe 0, um porco\n",
      "0.34\n",
      "\n",
      "teste_gato_3_gen.jpeg\n"
     ]
    },
    {
     "name": "stderr",
     "output_type": "stream",
     "text": [
      "/tmp/ipykernel_53464/2985914924.py:25: DeprecationWarning: Conversion of an array with ndim > 0 to a scalar is deprecated, and will error in future. Ensure you extract a single element from your array before performing this operation. (Deprecated NumPy 1.25.)\n",
      "  print(f'%.2f\\n' % (prediction))\n"
     ]
    },
    {
     "name": "stdout",
     "output_type": "stream",
     "text": [
      "1/1 [==============================] - 0s 73ms/step\n",
      "Classe 1, um gato\n",
      "0.80\n",
      "\n",
      "teste_porco_2.jpg\n",
      "1/1 [==============================] - 0s 57ms/step\n",
      "Classe 0, um porco\n",
      "0.00\n",
      "\n",
      "teste_porco_1.jpg\n",
      "1/1 [==============================] - 0s 35ms/step\n",
      "Classe 0, um porco\n",
      "0.00\n",
      "\n",
      "teste_gato_1.jpg\n",
      "1/1 [==============================] - 0s 32ms/step\n",
      "Classe 1, um gato\n",
      "0.67\n",
>>>>>>> 7c4ca7945cfa002ee83353a2be3efb700a6d4c5e
      "\n"
     ]
    }
   ],
   "source": [
    "# Diretório de imagens de teste\n",
    "test_directory = './test'  # Substitua 'data/test' pelo caminho para a pasta de teste\n",
    "\n",
    "# Percorra todas as imagens na pasta de teste\n",
    "for filename in os.listdir(test_directory):\n",
    "    if filename.endswith(\".jpg\") or filename.endswith(\".jpeg\"):\n",
    "        print(filename)\n",
    "        # Caminho completo para a imagem de teste\n",
    "        image_path = os.path.join(test_directory, filename)\n",
    "\n",
    "        # Pré-processe a imagem de teste\n",
    "        img = image.load_img(image_path, target_size=(150, 150))\n",
    "        img = image.img_to_array(img)\n",
    "        img = np.expand_dims(img, axis=0)\n",
    "        img = img / 255.0  # Normalize a imagem (igual ao pré-processamento durante o treinamento)\n",
    "\n",
    "        # Faça a previsão usando o modelo carregado\n",
    "        prediction = model.predict(img)\n",
    "\n",
    "        if prediction < 0.5:\n",
    "            print(\"Classe 0, um porco\")  # Defina a classe correspondente\n",
    "        else:\n",
    "            print(\"Classe 1, um gato\")  # Defina a classe correspondente\n",
    "                # Classifique a previsão\n",
    "        print(f'%.2f\\n' % (prediction))"
   ]
  }
 ],
 "metadata": {
  "kernelspec": {
   "display_name": "base",
   "language": "python",
   "name": "python3"
  },
  "language_info": {
   "codemirror_mode": {
    "name": "ipython",
    "version": 3
   },
   "file_extension": ".py",
   "mimetype": "text/x-python",
   "name": "python",
   "nbconvert_exporter": "python",
   "pygments_lexer": "ipython3",
   "version": "3.10.12"
  }
 },
 "nbformat": 4,
 "nbformat_minor": 2
}
